{
 "cells": [
  {
   "cell_type": "markdown",
   "metadata": {},
   "source": [
    "### Your Turn\n",
    "\n",
    "In the previous video, you saw an example of working with some MNIST digits data.  A link to the dataset can be found here: http://yann.lecun.com/exdb/mnist/.\n",
    "\n",
    "First, let's import the necessary libraries.  Notice, there are also some imports from a file called `helper_functions`, which contains the functions used in the previous video."
   ]
  },
  {
   "cell_type": "code",
   "execution_count": 21,
   "metadata": {},
   "outputs": [],
   "source": [
    "import pandas as pd\n",
    "import numpy as np\n",
    "from sklearn.decomposition import PCA\n",
    "from sklearn.preprocessing import StandardScaler\n",
    "from sklearn.ensemble import RandomForestClassifier,AdaBoostClassifier\n",
    "from sklearn.svm import SVC\n",
    "from sklearn.naive_bayes import GaussianNB\n",
    "from sklearn.model_selection import train_test_split\n",
    "from sklearn.metrics import confusion_matrix, accuracy_score\n",
    "from helper_functions import show_images, show_images_by_digit, fit_random_forest_classifier2 \n",
    "from helper_functions import fit_random_forest_classifier, do_pca, plot_components\n",
    "import test_code as t\n",
    "\n",
    "import matplotlib.image as mpimg\n",
    "import matplotlib.pyplot as plt\n",
    "import seaborn as sns\n",
    "\n",
    "%matplotlib inline"
   ]
  },
  {
   "cell_type": "markdown",
   "metadata": {},
   "source": [
    "`1.` Use pandas to read in the dataset, which can be found at the following address **'./data/train.csv'**.  If you have missing values, fill them with 0.  Take a look at info about the data using `head`, `tail`, `describe`, `info`, etc.  You can learn more about the data values from the article here: https://homepages.inf.ed.ac.uk/rbf/HIPR2/value.htm."
   ]
  },
  {
   "cell_type": "code",
   "execution_count": 9,
   "metadata": {},
   "outputs": [],
   "source": [
    "X = pd.read_csv('./data/train.csv')"
   ]
  },
  {
   "cell_type": "code",
   "execution_count": 10,
   "metadata": {},
   "outputs": [
    {
     "data": {
      "text/html": [
       "<div>\n",
       "<style scoped>\n",
       "    .dataframe tbody tr th:only-of-type {\n",
       "        vertical-align: middle;\n",
       "    }\n",
       "\n",
       "    .dataframe tbody tr th {\n",
       "        vertical-align: top;\n",
       "    }\n",
       "\n",
       "    .dataframe thead th {\n",
       "        text-align: right;\n",
       "    }\n",
       "</style>\n",
       "<table border=\"1\" class=\"dataframe\">\n",
       "  <thead>\n",
       "    <tr style=\"text-align: right;\">\n",
       "      <th></th>\n",
       "      <th>label</th>\n",
       "      <th>pixel0</th>\n",
       "      <th>pixel1</th>\n",
       "      <th>pixel2</th>\n",
       "      <th>pixel3</th>\n",
       "      <th>pixel4</th>\n",
       "      <th>pixel5</th>\n",
       "      <th>pixel6</th>\n",
       "      <th>pixel7</th>\n",
       "      <th>pixel8</th>\n",
       "      <th>...</th>\n",
       "      <th>pixel774</th>\n",
       "      <th>pixel775</th>\n",
       "      <th>pixel776</th>\n",
       "      <th>pixel777</th>\n",
       "      <th>pixel778</th>\n",
       "      <th>pixel779</th>\n",
       "      <th>pixel780</th>\n",
       "      <th>pixel781</th>\n",
       "      <th>pixel782</th>\n",
       "      <th>pixel783</th>\n",
       "    </tr>\n",
       "  </thead>\n",
       "  <tbody>\n",
       "    <tr>\n",
       "      <th>0</th>\n",
       "      <td>1</td>\n",
       "      <td>0</td>\n",
       "      <td>0</td>\n",
       "      <td>0</td>\n",
       "      <td>0</td>\n",
       "      <td>0</td>\n",
       "      <td>0</td>\n",
       "      <td>0</td>\n",
       "      <td>0</td>\n",
       "      <td>0</td>\n",
       "      <td>...</td>\n",
       "      <td>0.0</td>\n",
       "      <td>0.0</td>\n",
       "      <td>0.0</td>\n",
       "      <td>0.0</td>\n",
       "      <td>0.0</td>\n",
       "      <td>0.0</td>\n",
       "      <td>0.0</td>\n",
       "      <td>0.0</td>\n",
       "      <td>0.0</td>\n",
       "      <td>0.0</td>\n",
       "    </tr>\n",
       "    <tr>\n",
       "      <th>1</th>\n",
       "      <td>0</td>\n",
       "      <td>0</td>\n",
       "      <td>0</td>\n",
       "      <td>0</td>\n",
       "      <td>0</td>\n",
       "      <td>0</td>\n",
       "      <td>0</td>\n",
       "      <td>0</td>\n",
       "      <td>0</td>\n",
       "      <td>0</td>\n",
       "      <td>...</td>\n",
       "      <td>0.0</td>\n",
       "      <td>0.0</td>\n",
       "      <td>0.0</td>\n",
       "      <td>0.0</td>\n",
       "      <td>0.0</td>\n",
       "      <td>0.0</td>\n",
       "      <td>0.0</td>\n",
       "      <td>0.0</td>\n",
       "      <td>0.0</td>\n",
       "      <td>0.0</td>\n",
       "    </tr>\n",
       "    <tr>\n",
       "      <th>2</th>\n",
       "      <td>1</td>\n",
       "      <td>0</td>\n",
       "      <td>0</td>\n",
       "      <td>0</td>\n",
       "      <td>0</td>\n",
       "      <td>0</td>\n",
       "      <td>0</td>\n",
       "      <td>0</td>\n",
       "      <td>0</td>\n",
       "      <td>0</td>\n",
       "      <td>...</td>\n",
       "      <td>0.0</td>\n",
       "      <td>0.0</td>\n",
       "      <td>0.0</td>\n",
       "      <td>0.0</td>\n",
       "      <td>0.0</td>\n",
       "      <td>0.0</td>\n",
       "      <td>0.0</td>\n",
       "      <td>0.0</td>\n",
       "      <td>0.0</td>\n",
       "      <td>0.0</td>\n",
       "    </tr>\n",
       "    <tr>\n",
       "      <th>3</th>\n",
       "      <td>4</td>\n",
       "      <td>0</td>\n",
       "      <td>0</td>\n",
       "      <td>0</td>\n",
       "      <td>0</td>\n",
       "      <td>0</td>\n",
       "      <td>0</td>\n",
       "      <td>0</td>\n",
       "      <td>0</td>\n",
       "      <td>0</td>\n",
       "      <td>...</td>\n",
       "      <td>0.0</td>\n",
       "      <td>0.0</td>\n",
       "      <td>0.0</td>\n",
       "      <td>0.0</td>\n",
       "      <td>0.0</td>\n",
       "      <td>0.0</td>\n",
       "      <td>0.0</td>\n",
       "      <td>0.0</td>\n",
       "      <td>0.0</td>\n",
       "      <td>0.0</td>\n",
       "    </tr>\n",
       "    <tr>\n",
       "      <th>4</th>\n",
       "      <td>0</td>\n",
       "      <td>0</td>\n",
       "      <td>0</td>\n",
       "      <td>0</td>\n",
       "      <td>0</td>\n",
       "      <td>0</td>\n",
       "      <td>0</td>\n",
       "      <td>0</td>\n",
       "      <td>0</td>\n",
       "      <td>0</td>\n",
       "      <td>...</td>\n",
       "      <td>0.0</td>\n",
       "      <td>0.0</td>\n",
       "      <td>0.0</td>\n",
       "      <td>0.0</td>\n",
       "      <td>0.0</td>\n",
       "      <td>0.0</td>\n",
       "      <td>0.0</td>\n",
       "      <td>0.0</td>\n",
       "      <td>0.0</td>\n",
       "      <td>0.0</td>\n",
       "    </tr>\n",
       "  </tbody>\n",
       "</table>\n",
       "<p>5 rows × 785 columns</p>\n",
       "</div>"
      ],
      "text/plain": [
       "   label  pixel0  pixel1  pixel2  pixel3  pixel4  pixel5  pixel6  pixel7  \\\n",
       "0      1       0       0       0       0       0       0       0       0   \n",
       "1      0       0       0       0       0       0       0       0       0   \n",
       "2      1       0       0       0       0       0       0       0       0   \n",
       "3      4       0       0       0       0       0       0       0       0   \n",
       "4      0       0       0       0       0       0       0       0       0   \n",
       "\n",
       "   pixel8  ...  pixel774  pixel775  pixel776  pixel777  pixel778  pixel779  \\\n",
       "0       0  ...       0.0       0.0       0.0       0.0       0.0       0.0   \n",
       "1       0  ...       0.0       0.0       0.0       0.0       0.0       0.0   \n",
       "2       0  ...       0.0       0.0       0.0       0.0       0.0       0.0   \n",
       "3       0  ...       0.0       0.0       0.0       0.0       0.0       0.0   \n",
       "4       0  ...       0.0       0.0       0.0       0.0       0.0       0.0   \n",
       "\n",
       "   pixel780  pixel781  pixel782  pixel783  \n",
       "0       0.0       0.0       0.0       0.0  \n",
       "1       0.0       0.0       0.0       0.0  \n",
       "2       0.0       0.0       0.0       0.0  \n",
       "3       0.0       0.0       0.0       0.0  \n",
       "4       0.0       0.0       0.0       0.0  \n",
       "\n",
       "[5 rows x 785 columns]"
      ]
     },
     "execution_count": 10,
     "metadata": {},
     "output_type": "execute_result"
    }
   ],
   "source": [
    "X.head()"
   ]
  },
  {
   "cell_type": "code",
   "execution_count": 11,
   "metadata": {},
   "outputs": [
    {
     "data": {
      "text/html": [
       "<div>\n",
       "<style scoped>\n",
       "    .dataframe tbody tr th:only-of-type {\n",
       "        vertical-align: middle;\n",
       "    }\n",
       "\n",
       "    .dataframe tbody tr th {\n",
       "        vertical-align: top;\n",
       "    }\n",
       "\n",
       "    .dataframe thead th {\n",
       "        text-align: right;\n",
       "    }\n",
       "</style>\n",
       "<table border=\"1\" class=\"dataframe\">\n",
       "  <thead>\n",
       "    <tr style=\"text-align: right;\">\n",
       "      <th></th>\n",
       "      <th>label</th>\n",
       "      <th>pixel0</th>\n",
       "      <th>pixel1</th>\n",
       "      <th>pixel2</th>\n",
       "      <th>pixel3</th>\n",
       "      <th>pixel4</th>\n",
       "      <th>pixel5</th>\n",
       "      <th>pixel6</th>\n",
       "      <th>pixel7</th>\n",
       "      <th>pixel8</th>\n",
       "      <th>...</th>\n",
       "      <th>pixel774</th>\n",
       "      <th>pixel775</th>\n",
       "      <th>pixel776</th>\n",
       "      <th>pixel777</th>\n",
       "      <th>pixel778</th>\n",
       "      <th>pixel779</th>\n",
       "      <th>pixel780</th>\n",
       "      <th>pixel781</th>\n",
       "      <th>pixel782</th>\n",
       "      <th>pixel783</th>\n",
       "    </tr>\n",
       "  </thead>\n",
       "  <tbody>\n",
       "    <tr>\n",
       "      <th>count</th>\n",
       "      <td>6304.000000</td>\n",
       "      <td>6304.0</td>\n",
       "      <td>6304.0</td>\n",
       "      <td>6304.0</td>\n",
       "      <td>6304.0</td>\n",
       "      <td>6304.0</td>\n",
       "      <td>6304.0</td>\n",
       "      <td>6304.0</td>\n",
       "      <td>6304.0</td>\n",
       "      <td>6304.0</td>\n",
       "      <td>...</td>\n",
       "      <td>6303.000000</td>\n",
       "      <td>6303.000000</td>\n",
       "      <td>6303.000000</td>\n",
       "      <td>6303.0</td>\n",
       "      <td>6303.0</td>\n",
       "      <td>6303.0</td>\n",
       "      <td>6303.0</td>\n",
       "      <td>6303.0</td>\n",
       "      <td>6303.0</td>\n",
       "      <td>6303.0</td>\n",
       "    </tr>\n",
       "    <tr>\n",
       "      <th>mean</th>\n",
       "      <td>4.440355</td>\n",
       "      <td>0.0</td>\n",
       "      <td>0.0</td>\n",
       "      <td>0.0</td>\n",
       "      <td>0.0</td>\n",
       "      <td>0.0</td>\n",
       "      <td>0.0</td>\n",
       "      <td>0.0</td>\n",
       "      <td>0.0</td>\n",
       "      <td>0.0</td>\n",
       "      <td>...</td>\n",
       "      <td>0.139616</td>\n",
       "      <td>0.142313</td>\n",
       "      <td>0.026971</td>\n",
       "      <td>0.0</td>\n",
       "      <td>0.0</td>\n",
       "      <td>0.0</td>\n",
       "      <td>0.0</td>\n",
       "      <td>0.0</td>\n",
       "      <td>0.0</td>\n",
       "      <td>0.0</td>\n",
       "    </tr>\n",
       "    <tr>\n",
       "      <th>std</th>\n",
       "      <td>2.885613</td>\n",
       "      <td>0.0</td>\n",
       "      <td>0.0</td>\n",
       "      <td>0.0</td>\n",
       "      <td>0.0</td>\n",
       "      <td>0.0</td>\n",
       "      <td>0.0</td>\n",
       "      <td>0.0</td>\n",
       "      <td>0.0</td>\n",
       "      <td>0.0</td>\n",
       "      <td>...</td>\n",
       "      <td>5.100344</td>\n",
       "      <td>5.531528</td>\n",
       "      <td>1.675680</td>\n",
       "      <td>0.0</td>\n",
       "      <td>0.0</td>\n",
       "      <td>0.0</td>\n",
       "      <td>0.0</td>\n",
       "      <td>0.0</td>\n",
       "      <td>0.0</td>\n",
       "      <td>0.0</td>\n",
       "    </tr>\n",
       "    <tr>\n",
       "      <th>min</th>\n",
       "      <td>0.000000</td>\n",
       "      <td>0.0</td>\n",
       "      <td>0.0</td>\n",
       "      <td>0.0</td>\n",
       "      <td>0.0</td>\n",
       "      <td>0.0</td>\n",
       "      <td>0.0</td>\n",
       "      <td>0.0</td>\n",
       "      <td>0.0</td>\n",
       "      <td>0.0</td>\n",
       "      <td>...</td>\n",
       "      <td>0.000000</td>\n",
       "      <td>0.000000</td>\n",
       "      <td>0.000000</td>\n",
       "      <td>0.0</td>\n",
       "      <td>0.0</td>\n",
       "      <td>0.0</td>\n",
       "      <td>0.0</td>\n",
       "      <td>0.0</td>\n",
       "      <td>0.0</td>\n",
       "      <td>0.0</td>\n",
       "    </tr>\n",
       "    <tr>\n",
       "      <th>25%</th>\n",
       "      <td>2.000000</td>\n",
       "      <td>0.0</td>\n",
       "      <td>0.0</td>\n",
       "      <td>0.0</td>\n",
       "      <td>0.0</td>\n",
       "      <td>0.0</td>\n",
       "      <td>0.0</td>\n",
       "      <td>0.0</td>\n",
       "      <td>0.0</td>\n",
       "      <td>0.0</td>\n",
       "      <td>...</td>\n",
       "      <td>0.000000</td>\n",
       "      <td>0.000000</td>\n",
       "      <td>0.000000</td>\n",
       "      <td>0.0</td>\n",
       "      <td>0.0</td>\n",
       "      <td>0.0</td>\n",
       "      <td>0.0</td>\n",
       "      <td>0.0</td>\n",
       "      <td>0.0</td>\n",
       "      <td>0.0</td>\n",
       "    </tr>\n",
       "    <tr>\n",
       "      <th>50%</th>\n",
       "      <td>4.000000</td>\n",
       "      <td>0.0</td>\n",
       "      <td>0.0</td>\n",
       "      <td>0.0</td>\n",
       "      <td>0.0</td>\n",
       "      <td>0.0</td>\n",
       "      <td>0.0</td>\n",
       "      <td>0.0</td>\n",
       "      <td>0.0</td>\n",
       "      <td>0.0</td>\n",
       "      <td>...</td>\n",
       "      <td>0.000000</td>\n",
       "      <td>0.000000</td>\n",
       "      <td>0.000000</td>\n",
       "      <td>0.0</td>\n",
       "      <td>0.0</td>\n",
       "      <td>0.0</td>\n",
       "      <td>0.0</td>\n",
       "      <td>0.0</td>\n",
       "      <td>0.0</td>\n",
       "      <td>0.0</td>\n",
       "    </tr>\n",
       "    <tr>\n",
       "      <th>75%</th>\n",
       "      <td>7.000000</td>\n",
       "      <td>0.0</td>\n",
       "      <td>0.0</td>\n",
       "      <td>0.0</td>\n",
       "      <td>0.0</td>\n",
       "      <td>0.0</td>\n",
       "      <td>0.0</td>\n",
       "      <td>0.0</td>\n",
       "      <td>0.0</td>\n",
       "      <td>0.0</td>\n",
       "      <td>...</td>\n",
       "      <td>0.000000</td>\n",
       "      <td>0.000000</td>\n",
       "      <td>0.000000</td>\n",
       "      <td>0.0</td>\n",
       "      <td>0.0</td>\n",
       "      <td>0.0</td>\n",
       "      <td>0.0</td>\n",
       "      <td>0.0</td>\n",
       "      <td>0.0</td>\n",
       "      <td>0.0</td>\n",
       "    </tr>\n",
       "    <tr>\n",
       "      <th>max</th>\n",
       "      <td>9.000000</td>\n",
       "      <td>0.0</td>\n",
       "      <td>0.0</td>\n",
       "      <td>0.0</td>\n",
       "      <td>0.0</td>\n",
       "      <td>0.0</td>\n",
       "      <td>0.0</td>\n",
       "      <td>0.0</td>\n",
       "      <td>0.0</td>\n",
       "      <td>0.0</td>\n",
       "      <td>...</td>\n",
       "      <td>253.000000</td>\n",
       "      <td>253.000000</td>\n",
       "      <td>130.000000</td>\n",
       "      <td>0.0</td>\n",
       "      <td>0.0</td>\n",
       "      <td>0.0</td>\n",
       "      <td>0.0</td>\n",
       "      <td>0.0</td>\n",
       "      <td>0.0</td>\n",
       "      <td>0.0</td>\n",
       "    </tr>\n",
       "  </tbody>\n",
       "</table>\n",
       "<p>8 rows × 785 columns</p>\n",
       "</div>"
      ],
      "text/plain": [
       "             label  pixel0  pixel1  pixel2  pixel3  pixel4  pixel5  pixel6  \\\n",
       "count  6304.000000  6304.0  6304.0  6304.0  6304.0  6304.0  6304.0  6304.0   \n",
       "mean      4.440355     0.0     0.0     0.0     0.0     0.0     0.0     0.0   \n",
       "std       2.885613     0.0     0.0     0.0     0.0     0.0     0.0     0.0   \n",
       "min       0.000000     0.0     0.0     0.0     0.0     0.0     0.0     0.0   \n",
       "25%       2.000000     0.0     0.0     0.0     0.0     0.0     0.0     0.0   \n",
       "50%       4.000000     0.0     0.0     0.0     0.0     0.0     0.0     0.0   \n",
       "75%       7.000000     0.0     0.0     0.0     0.0     0.0     0.0     0.0   \n",
       "max       9.000000     0.0     0.0     0.0     0.0     0.0     0.0     0.0   \n",
       "\n",
       "       pixel7  pixel8  ...     pixel774     pixel775     pixel776  pixel777  \\\n",
       "count  6304.0  6304.0  ...  6303.000000  6303.000000  6303.000000    6303.0   \n",
       "mean      0.0     0.0  ...     0.139616     0.142313     0.026971       0.0   \n",
       "std       0.0     0.0  ...     5.100344     5.531528     1.675680       0.0   \n",
       "min       0.0     0.0  ...     0.000000     0.000000     0.000000       0.0   \n",
       "25%       0.0     0.0  ...     0.000000     0.000000     0.000000       0.0   \n",
       "50%       0.0     0.0  ...     0.000000     0.000000     0.000000       0.0   \n",
       "75%       0.0     0.0  ...     0.000000     0.000000     0.000000       0.0   \n",
       "max       0.0     0.0  ...   253.000000   253.000000   130.000000       0.0   \n",
       "\n",
       "       pixel778  pixel779  pixel780  pixel781  pixel782  pixel783  \n",
       "count    6303.0    6303.0    6303.0    6303.0    6303.0    6303.0  \n",
       "mean        0.0       0.0       0.0       0.0       0.0       0.0  \n",
       "std         0.0       0.0       0.0       0.0       0.0       0.0  \n",
       "min         0.0       0.0       0.0       0.0       0.0       0.0  \n",
       "25%         0.0       0.0       0.0       0.0       0.0       0.0  \n",
       "50%         0.0       0.0       0.0       0.0       0.0       0.0  \n",
       "75%         0.0       0.0       0.0       0.0       0.0       0.0  \n",
       "max         0.0       0.0       0.0       0.0       0.0       0.0  \n",
       "\n",
       "[8 rows x 785 columns]"
      ]
     },
     "execution_count": 11,
     "metadata": {},
     "output_type": "execute_result"
    }
   ],
   "source": [
    "X.describe()"
   ]
  },
  {
   "cell_type": "code",
   "execution_count": 12,
   "metadata": {},
   "outputs": [],
   "source": [
    "X.fillna(0,axis=0,inplace=True)"
   ]
  },
  {
   "cell_type": "markdown",
   "metadata": {},
   "source": [
    "`2.` Create a vector called **y** that holds the **label** column of the dataset.  Store all other columns holding the pixel data of your images in **X**."
   ]
  },
  {
   "cell_type": "code",
   "execution_count": 13,
   "metadata": {},
   "outputs": [],
   "source": [
    "y = X['label']\n",
    "X.drop('label',axis=1,inplace=True)"
   ]
  },
  {
   "cell_type": "code",
   "execution_count": 14,
   "metadata": {},
   "outputs": [
    {
     "name": "stdout",
     "output_type": "stream",
     "text": [
      "That looks right!\n"
     ]
    }
   ],
   "source": [
    "#Check Your Solution \n",
    "t.question_two_check(y, X)"
   ]
  },
  {
   "cell_type": "markdown",
   "metadata": {},
   "source": [
    "`3.` Now use the `show_images_by_digit` function from the `helper_functions` module to take a look some of the `1`'s, `2`'s, `3`'s, or any other value you are interested in looking at.  Do they all look like what you would expect?"
   ]
  },
  {
   "cell_type": "code",
   "execution_count": 18,
   "metadata": {},
   "outputs": [
    {
     "data": {
      "image/png": "[encoded data removed]",
      "text/plain": [
       "<Figure size 432x288 with 50 Axes>"
      ]
     },
     "metadata": {},
     "output_type": "display_data"
    }
   ],
   "source": [
    "show_images_by_digit(7) # Try looking at a few other digits"
   ]
  },
  {
   "cell_type": "markdown",
   "metadata": {},
   "source": [
    "`4.` Now that you have had a chance to look through some of the data, you can try some different algorithms to see what works well to use the X matrix to predict the response well.  If you would like to use the function I used in the video regarding random forests, you can run the code below, but you might also try any of the supervised techniques you learned in the previous course to see what works best.\n",
    "\n",
    "If you decide to put together your own classifier, remember the 4 steps to this process:\n",
    "\n",
    "**I.** Instantiate your model. (with all the hyperparameter values you care about)\n",
    "\n",
    "**II.** Fit your model. (to the training data)\n",
    "\n",
    "**III.** Predict using your fitted model.  (on the test data)\n",
    "\n",
    "**IV.** Score your model. (comparing the predictions to the actual values on the test data)\n",
    "\n",
    "You can also try a grid search to see if you can improve on your initial predictions."
   ]
  },
  {
   "cell_type": "code",
   "execution_count": 42,
   "metadata": {},
   "outputs": [],
   "source": [
    "svm_clf = SVC()\n",
    "nb_clf = GaussianNB()\n",
    "ada_clf = AdaBoostClassifier(n_estimators=100)\n",
    "rf_clf = RandomForestClassifier(n_estimators=100,max_depth=None)\n",
    "classifiers = [svm_clf,nb_clf,ada_clf,rf_clf]"
   ]
  },
  {
   "cell_type": "code",
   "execution_count": 55,
   "metadata": {},
   "outputs": [],
   "source": [
    "def fit_predict(clf,X,y):\n",
    "    \"\"\"\n",
    "    Input: Instantiated classifier\n",
    "    X for fitting and predicting\n",
    "    y labels for scoring\n",
    "    \"\"\"\n",
    "    X_train, X_test, y_train, y_test = train_test_split(X, y, test_size=0.25, random_state=42)\n",
    "    scaled_X_train = StandardScaler().fit_transform(X_train)\n",
    "    scaled_X_test = StandardScaler().fit_transform(X_test)\n",
    "    \n",
    "    clf.fit(scaled_X_train,y_train)\n",
    "    pred = clf.predict(scaled_X_test)\n",
    "    \n",
    "    accuracy = accuracy_score(y_test,pred)\n",
    "    mat = confusion_matrix(y_test, pred)\n",
    "    print(mat)\n",
    "#     print(sns.heatmap(mat, annot=True, cmap='bwr', linewidths=.5))\n",
    "    print(f'Accuracy: {accuracy*100:.3f}%\\n')\n",
    "    return accuracy"
   ]
  },
  {
   "cell_type": "code",
   "execution_count": 47,
   "metadata": {
    "scrolled": true
   },
   "outputs": [
    {
     "name": "stderr",
     "output_type": "stream",
     "text": [
      "/Users/patrickdeguzman/anaconda3/lib/python3.7/site-packages/sklearn/svm/base.py:193: FutureWarning: The default value of gamma will change from 'auto' to 'scale' in version 0.22 to account better for unscaled features. Set gamma explicitly to 'auto' or 'scale' to avoid this warning.\n",
      "  \"avoid this warning.\", FutureWarning)\n"
     ]
    },
    {
     "name": "stdout",
     "output_type": "stream",
     "text": [
      "[[145   0   2   0   0   0   3   1   1   0]\n",
      " [  0 184   1   0   0   0   1   1   1   0]\n",
      " [  1   2 163   3   2   0   1   3   3   0]\n",
      " [  0   0   9 126   0   3   0   1   3   0]\n",
      " [  0   0   5   0 119   0   1   1   0   2]\n",
      " [  0   0   2   6   0 131   1   0   3   1]\n",
      " [  2   0   3   0   0   2 158   0   1   0]\n",
      " [  0   0  12   0   1   0   0 147   2   5]\n",
      " [  0   1   1   2   1   2   0   1 142   2]\n",
      " [  1   0   5   2   6   0   0   5   1 139]]\n",
      "AxesSubplot(0.125,0.125;0.62x0.755)\n",
      "Accuracy: 92.259%\n",
      "\n",
      "[[  0   0 147   0   0   4   0   1   0   0]\n",
      " [  0   0 185   0   0   3   0   0   0   0]\n",
      " [  0   0 174   1   0   0   3   0   0   0]\n",
      " [  0   0 137   2   2   1   0   0   0   0]\n",
      " [  0   0 115   0   4   9   0   0   0   0]\n",
      " [  0   0  84   0   2  57   0   0   0   1]\n",
      " [  0   0 151   0   0   7   8   0   0   0]\n",
      " [  1   0  53   2  46  21   0  39   5   0]\n",
      " [  0   0 135   0   0  17   0   0   0   0]\n",
      " [  0   0 112   1  21  21   0   1   0   3]]\n",
      "AxesSubplot(0.125,0.125;0.496x0.755)\n",
      "Accuracy: 18.211%\n",
      "\n",
      "[[ 62   0  21   2   0  36  27   0   2   2]\n",
      " [  0 124   8   4   0   7   2   6  37   0]\n",
      " [  0   2  65   7   1   6  85   1   8   3]\n",
      " [  1   2   3  71   0  16  31   1  15   2]\n",
      " [  1   0  11   3  84   1   3   1  16   8]\n",
      " [  0   1   1  22   2 106   6   0   3   3]\n",
      " [  0   2   5   1   7   8 139   0   3   1]\n",
      " [  3   1  19   3   2   7   0 120   0  12]\n",
      " [  0   4   2  13   0  16   8   1 107   1]\n",
      " [  1   0  11   6  34   7   0  14  24  62]]\n",
      "AxesSubplot(0.125,0.125;0.3968x0.755)\n",
      "Accuracy: 59.645%\n",
      "\n",
      "[[148   0   2   0   0   0   1   0   1   0]\n",
      " [  0 173   4   0   1   1   1   1   7   0]\n",
      " [  1   0 167   2   0   0   2   3   2   1]\n",
      " [  3   0   2 132   0   4   0   0   1   0]\n",
      " [  0   0   0   0 124   0   2   0   0   2]\n",
      " [  1   0   0   3   3 130   1   1   3   2]\n",
      " [  1   0   2   0   0   2 160   0   1   0]\n",
      " [  0   0   9   2   3   0   0 147   2   4]\n",
      " [  0   0   0   7   2   2   0   0 140   1]\n",
      " [  2   0   0   3  10   0   0   1   5 138]]\n",
      "AxesSubplot(0.125,0.125;0.31744x0.755)\n",
      "Accuracy: 92.576%\n",
      "\n"
     ]
    },
    {
     "data": {
      "image/png": "[encoded data removed]",
      "text/plain": [
       "<Figure size 432x288 with 5 Axes>"
      ]
     },
     "metadata": {
      "needs_background": "light"
     },
     "output_type": "display_data"
    }
   ],
   "source": [
    "results = []\n",
    "for clf in classifiers:\n",
    "    results.append((clf.__class__.__name__,fit_predict(clf,X,y)))"
   ]
  },
  {
   "cell_type": "code",
   "execution_count": 48,
   "metadata": {},
   "outputs": [
    {
     "name": "stdout",
     "output_type": "stream",
     "text": [
      "Clf SVC scored 92.26%\n",
      "Clf GaussianNB scored 18.21%\n",
      "Clf AdaBoostClassifier scored 59.64%\n",
      "Clf RandomForestClassifier scored 92.58%\n"
     ]
    }
   ],
   "source": [
    "for clf,acc in results:\n",
    "    print(f'Clf {clf} scored {acc*100:.2f}%')"
   ]
  },
  {
   "cell_type": "markdown",
   "metadata": {},
   "source": [
    "Looks like the RandomForestClassifier performed the best out of the 4 algorithms."
   ]
  },
  {
   "cell_type": "markdown",
   "metadata": {},
   "source": [
    "`5.` Now the purpose of this lesson, to look at PCA.  In the video, I created a model just using two features.  Replicate the process below. You can use the same `do_pca` function that was created in the previous video.  Store your variables in **pca** and **X_pca**."
   ]
  },
  {
   "cell_type": "code",
   "execution_count": 52,
   "metadata": {},
   "outputs": [],
   "source": [
    "pca,X_pca = do_pca(n_components=2,data=X)"
   ]
  },
  {
   "cell_type": "markdown",
   "metadata": {},
   "source": [
    "`6.` The **X_pca** has moved the original more than 700 features down to only 2 features that capture the majority of the variability in the pixel values.  Use the space below to fit a model using these two features to predict the written value.  You can use the random forest model by running `fit_random_forest_classifier` the same way as in the video. How well does it perform?"
   ]
  },
  {
   "cell_type": "code",
   "execution_count": 53,
   "metadata": {
    "scrolled": true
   },
   "outputs": [
    {
     "name": "stdout",
     "output_type": "stream",
     "text": [
      "[[ 93   0  43   1   5   0   7   0   3   0]\n",
      " [  0 166   3   0   2   1   0   0   8   8]\n",
      " [ 15   1 112   2  21   4   5   1  13   4]\n",
      " [  4   1  44   0  42   4   6   3  24  14]\n",
      " [  3   4  14   1  61   0   7   4   4  30]\n",
      " [  2   4  33   1  33   2   5   2  58   4]\n",
      " [ 23   4  79   0   5   1  10   0  44   0]\n",
      " [  0   1   5   0  30   1   2  61   2  65]\n",
      " [  2   6  32   1  43   6   5   0  52   5]\n",
      " [  1   8   2   0  47   0   0  21   0  80]]\n",
      "AxesSubplot(0.125,0.125;0.62x0.755)\n",
      "Accuracy: 40.419%\n",
      "\n",
      "[[ 97   1  41   1   4   0   0   0   8   0]\n",
      " [  0 179   1   0   0   1   0   0   7   0]\n",
      " [ 24   3  93   3  19   0   0   2  31   3]\n",
      " [ 10   6  41   5  18   2   0  12  39   9]\n",
      " [  8  10   7   2  41   0   0  19  11  30]\n",
      " [  6  16  28   0  18   0   0   3  66   7]\n",
      " [ 27  11  59   4   5   2   0   0  57   1]\n",
      " [  2  14   2   0  14   0   0  83   9  43]\n",
      " [  6  16  28   2  28   3   0   3  59   7]\n",
      " [  2  17   2   0  30   0   0  45   4  59]]\n",
      "AxesSubplot(0.125,0.125;0.496x0.755)\n",
      "Accuracy: 39.086%\n",
      "\n",
      "[[  5   0   3   0   1   1  59  81   2   0]\n",
      " [  1 167   0   0   0   3   2   2  11   2]\n",
      " [ 17   2   5   1   5   0  94  47   4   3]\n",
      " [  9   4   5   1  13   1  44  49  12   4]\n",
      " [  0  11   3   0  14   1  10  79   6   4]\n",
      " [ 16   5   4   1   7  14  32  34  27   4]\n",
      " [ 21   3   2   0   3   7  60  49  17   4]\n",
      " [  5  30   1   1   5   0   4  82   7  32]\n",
      " [ 12   4   7   0  12   6  36  40  29   6]\n",
      " [  0  48   2   1   7   0   5  81   4  11]]\n",
      "AxesSubplot(0.125,0.125;0.3968x0.755)\n",
      "Accuracy: 24.619%\n",
      "\n",
      "[[ 79   0  23   5   4   8  25   1   7   0]\n",
      " [  0 157   3   1   1   4   1   3   7  11]\n",
      " [ 32   1  50  20  16  14  23   5  13   4]\n",
      " [  9   0  12  16  26  20  21   8  20  10]\n",
      " [  5   4   8  13  33  10   8  21  10  16]\n",
      " [  4   5  17  17  13  26  24   5  26   7]\n",
      " [ 30   3  36  17   6  22  33   1  17   1]\n",
      " [  1   2   8   9  23   4   3  74   6  37]\n",
      " [  6   5  21  26  18  22  21   4  21   8]\n",
      " [  1   8   3  12  22   6   3  46   8  50]]\n",
      "AxesSubplot(0.125,0.125;0.31744x0.755)\n",
      "Accuracy: 34.201%\n",
      "\n"
     ]
    },
    {
     "data": {
      "image/png": "[encoded data removed]",
      "text/plain": [
       "<Figure size 432x288 with 5 Axes>"
      ]
     },
     "metadata": {
      "needs_background": "light"
     },
     "output_type": "display_data"
    }
   ],
   "source": [
    "results = []\n",
    "for clf in classifiers:\n",
    "    results.append((clf.__class__.__name__,fit_predict(clf,X_pca,y)))"
   ]
  },
  {
   "cell_type": "code",
   "execution_count": 54,
   "metadata": {},
   "outputs": [
    {
     "name": "stdout",
     "output_type": "stream",
     "text": [
      "Clf SVC scored 40.42%\n",
      "Clf GaussianNB scored 39.09%\n",
      "Clf AdaBoostClassifier scored 24.62%\n",
      "Clf RandomForestClassifier scored 34.20%\n"
     ]
    }
   ],
   "source": [
    "for clf,acc in results:\n",
    "    print(f'Clf {clf} scored {acc*100:.2f}%')"
   ]
  },
  {
   "cell_type": "markdown",
   "metadata": {},
   "source": [
    "`7.` Now you can look at the separation of the values using the `plot_components` function.  If you plot all of the points (more than 40,000), you will likely not be able to see much of what is happening.  I recommend plotting just a subset of the data.  Which value(s) have some separation that are being predicted better than others based on these two components?"
   ]
  },
  {
   "cell_type": "code",
   "execution_count": 59,
   "metadata": {},
   "outputs": [
    {
     "data": {
      "image/png": "[encoded data removed]",
      "text/plain": [
       "<Figure size 720x432 with 1 Axes>"
      ]
     },
     "metadata": {},
     "output_type": "display_data"
    }
   ],
   "source": [
    "# Try plotting some of the numbers below - you can change the number\n",
    "# of digits that are plotted, but it is probably best not to plot the \n",
    "# entire dataset.  Your visual will not be readable.\n",
    "plot_components(X_pca[:120], y[:120])"
   ]
  },
  {
   "cell_type": "markdown",
   "metadata": {},
   "source": [
    "`8.` See if you can find a reduced number of features that provides better separation to make predictions.  Say you want to get separation that allows for accuracy of more than 90%, how many principal components are needed to obtain this level of accuracy?  Were you able to substantially reduce the number of features needed in your final model?"
   ]
  },
  {
   "cell_type": "code",
   "execution_count": 60,
   "metadata": {},
   "outputs": [],
   "source": [
    "n_components = [10,50,100,200,300,500]\n",
    "results_pca_X_pca = []\n",
    "for n in n_components:\n",
    "    results_pca_X_pca.append(do_pca(n,X))"
   ]
  },
  {
   "cell_type": "code",
   "execution_count": 63,
   "metadata": {
    "scrolled": true
   },
   "outputs": [
    {
     "name": "stdout",
     "output_type": "stream",
     "text": [
      "[[136   0   4   0   0   4   4   1   1   2]\n",
      " [  0 178   2   1   0   0   2   0   4   1]\n",
      " [  2   1 159   4   2   1   2   3   4   0]\n",
      " [  2   0  10 122   0   3   0   0   5   0]\n",
      " [  0   0   0   0 102   1   3   2   3  17]\n",
      " [  0   0   2   6   5 124   0   0   3   4]\n",
      " [  4   0   1   0   2   0 158   0   1   0]\n",
      " [  0   0   5   1   3   0   1 141   7   9]\n",
      " [  1   1   1   6   4  11   0   1 125   2]\n",
      " [  2   0   0   1  24   1   1  11   2 117]]\n",
      "Accuracy: 86.421%\n",
      "\n",
      "[[141   0   2   0   1   0   4   1   1   2]\n",
      " [  0 181   3   0   0   1   1   1   1   0]\n",
      " [  4   1 160   2   1   0   3   2   4   1]\n",
      " [  1   0   7 128   0   3   0   1   2   0]\n",
      " [  0   0   2   0 114   1   2   1   0   8]\n",
      " [  0   0   3   5   1 129   1   0   2   3]\n",
      " [  3   0   1   0   1   2 158   0   1   0]\n",
      " [  0   0   6   1   2   0   0 151   1   6]\n",
      " [  2   2   1   5   2   4   0   0 134   2]\n",
      " [  1   0   1   3  11   1   0   8   0 134]]\n",
      "Accuracy: 90.736%\n",
      "\n",
      "[[142   0   1   0   0   1   4   2   2   0]\n",
      " [  0 180   2   0   0   1   1   2   2   0]\n",
      " [  2   1 163   2   2   0   1   4   3   0]\n",
      " [  0   0   6 128   0   3   0   0   5   0]\n",
      " [  0   0   4   0 117   0   1   1   0   5]\n",
      " [  0   0   1   6   0 128   2   0   4   3]\n",
      " [  3   0   1   0   1   2 158   0   1   0]\n",
      " [  0   0   7   2   2   0   0 151   1   4]\n",
      " [  2   1   3   6   2   6   0   1 130   1]\n",
      " [  1   0   1   3   8   0   0  10   0 136]]\n",
      "Accuracy: 90.926%\n",
      "\n",
      "[[141   0   2   0   2   0   5   2   0   0]\n",
      " [  0 181   2   1   0   0   1   1   2   0]\n",
      " [  3   1 162   2   1   1   2   3   3   0]\n",
      " [  0   0   5 128   0   6   1   0   1   1]\n",
      " [  0   0   5   0 110   2   2   1   2   6]\n",
      " [  0   0   2   6   1 126   2   0   2   5]\n",
      " [  5   0   1   0   0   6 154   0   0   0]\n",
      " [  2   0   8   2   6   0   0 140   1   8]\n",
      " [  3   2   3   7   2   6   0   1 127   1]\n",
      " [  1   0   1   3  14   0   0  10   1 129]]\n",
      "Accuracy: 88.706%\n",
      "\n",
      "[[141   0   2   0   0   1   6   2   0   0]\n",
      " [  0 182   1   1   0   0   1   0   2   1]\n",
      " [  4   1 158   4   3   0   2   2   3   1]\n",
      " [  2   0   9 126   0   3   0   0   1   1]\n",
      " [  0   0   5   1 112   1   3   1   1   4]\n",
      " [  0   1   2  11   1 119   2   1   2   5]\n",
      " [  5   0   2   0   0   5 153   0   1   0]\n",
      " [  0   1   5   3   3   1   0 146   2   6]\n",
      " [  2   2   1  10   2   5   0   0 128   2]\n",
      " [  1   0   2   3  13   1   0  10   1 128]]\n",
      "Accuracy: 88.388%\n",
      "\n",
      "[[142   0   2   1   1   1   3   1   1   0]\n",
      " [  0 179   2   1   0   1   1   2   2   0]\n",
      " [  3   1 154   4   2   2   6   2   3   1]\n",
      " [  1   0   9 118   0   4   3   3   4   0]\n",
      " [  0   0   7   0 112   1   2   0   1   5]\n",
      " [  0   0   1  11   1 116   3   2   7   3]\n",
      " [  5   0   5   0   0   3 152   0   1   0]\n",
      " [  0   0   8   3   2   0   0 145   2   7]\n",
      " [  3   2   2   6   2   9   1   0 126   1]\n",
      " [  1   0   3   5  12   1   0   7   0 130]]\n",
      "Accuracy: 87.183%\n",
      "\n",
      "No. Principle Components 10 resulted in 86.42% Accuracy\n",
      "No. Principle Components 50 resulted in 90.74% Accuracy\n",
      "No. Principle Components 100 resulted in 90.93% Accuracy\n",
      "No. Principle Components 200 resulted in 88.71% Accuracy\n",
      "No. Principle Components 300 resulted in 88.39% Accuracy\n",
      "No. Principle Components 500 resulted in 87.18% Accuracy\n"
     ]
    }
   ],
   "source": [
    "result_pca_acc = []\n",
    "for pca,X_pca in results_pca_X_pca:\n",
    "    result_pca_acc.append(fit_predict(rf_clf,X_pca,y))\n",
    "for n_comp,acc in zip(n_components,result_pca_acc):\n",
    "    print(f'No. Principle Components {n_comp} resulted in {acc*100:.2f}% Accuracy')"
   ]
  },
  {
   "cell_type": "markdown",
   "metadata": {},
   "source": [
    "`9.` It is possible that extra features in the dataset even lead to overfitting or the [curse of dimensionality](https://stats.stackexchange.com/questions/65379/machine-learning-curse-of-dimensionality-explained).  Do you have evidence of this happening for this dataset?  Can you support your evidence with a visual or table?  To avoid printing out all of the metric results, I created another function called `fit_random_forest_classifier2`.  I ran through a significant number of components to create the visual for the solution, but I strongly recommend you look in the range below 100 principal components!"
   ]
  },
  {
   "cell_type": "markdown",
   "metadata": {
    "collapsed": true
   },
   "source": [
    "Per my results above, it looks like 100 components gave us the highest accuracy. It was more than 3% better than 500 components, suggesting that leaving these extra features may lead to *overfitting*!"
   ]
  },
  {
   "cell_type": "markdown",
   "metadata": {},
   "source": [
    "Let's try this again with a tighter range of components..."
   ]
  },
  {
   "cell_type": "code",
   "execution_count": 64,
   "metadata": {
    "scrolled": true
   },
   "outputs": [
    {
     "name": "stdout",
     "output_type": "stream",
     "text": [
      "[[141   0   1   1   0   0   4   3   1   1]\n",
      " [  0 181   2   0   0   0   1   0   3   1]\n",
      " [  3   1 161   4   1   0   2   2   4   0]\n",
      " [  1   0   6 127   0   3   0   1   4   0]\n",
      " [  0   0   3   0 113   1   3   1   0   7]\n",
      " [  0   0   1   9   1 129   0   0   1   3]\n",
      " [  5   0   1   0   2   1 157   0   0   0]\n",
      " [  0   0   6   1   4   0   0 143   2  11]\n",
      " [  2   1   1   6   0   7   0   0 132   3]\n",
      " [  1   0   1   3  10   0   0   8   0 136]]\n",
      "Accuracy: 90.102%\n",
      "\n",
      "[[143   0   1   0   1   0   4   1   2   0]\n",
      " [  0 181   2   0   0   0   1   0   3   1]\n",
      " [  3   1 158   4   2   0   3   2   5   0]\n",
      " [  0   0   6 127   0   6   1   0   1   1]\n",
      " [  0   0   2   0 113   1   3   1   0   8]\n",
      " [  0   0   2   6   1 130   1   0   1   3]\n",
      " [  4   0   1   0   2   2 157   0   0   0]\n",
      " [  0   0   5   2   2   0   0 149   2   7]\n",
      " [  2   1   1   7   0   4   1   0 133   3]\n",
      " [  1   0   1   3  12   0   0  10   0 132]]\n",
      "Accuracy: 90.292%\n",
      "\n",
      "[[140   0   2   0   0   0   5   4   1   0]\n",
      " [  0 181   3   1   0   0   1   1   1   0]\n",
      " [  3   1 162   2   1   0   3   2   3   1]\n",
      " [  1   0   7 127   0   3   0   1   3   0]\n",
      " [  0   0   2   0 117   0   2   1   0   6]\n",
      " [  0   0   1   5   0 136   0   1   0   1]\n",
      " [  3   0   1   0   1   2 158   0   1   0]\n",
      " [  0   0   7   1   3   0   1 146   2   7]\n",
      " [  1   1   1   5   0   8   0   0 133   3]\n",
      " [  1   0   2   2  12   0   0  12   0 130]]\n",
      "Accuracy: 90.736%\n",
      "\n",
      "[[142   0   2   0   0   0   5   2   1   0]\n",
      " [  0 180   3   0   0   0   1   2   2   0]\n",
      " [  2   1 162   2   1   0   4   2   4   0]\n",
      " [  0   0   8 128   0   3   1   1   1   0]\n",
      " [  0   0   2   0 122   0   1   0   0   3]\n",
      " [  0   0   2   7   0 128   1   0   3   3]\n",
      " [  5   0   2   0   1   2 155   0   1   0]\n",
      " [  0   0   8   2   2   0   1 145   1   8]\n",
      " [  2   1   1   5   2   5   1   1 132   2]\n",
      " [  1   0   1   2   7   0   0   9   1 138]]\n",
      "Accuracy: 90.863%\n",
      "\n",
      "[[141   0   2   0   1   0   5   2   1   0]\n",
      " [  0 181   2   1   0   1   1   1   1   0]\n",
      " [  4   1 161   1   2   0   4   2   2   1]\n",
      " [  1   0   6 127   0   3   0   1   4   0]\n",
      " [  0   0   3   0 117   0   3   1   0   4]\n",
      " [  0   0   2   4   0 132   1   1   2   2]\n",
      " [  2   0   2   0   1   2 158   0   1   0]\n",
      " [  0   0   4   4   3   0   1 146   0   9]\n",
      " [  4   1   1   7   0   9   0   0 128   2]\n",
      " [  1   0   1   3   6   0   0  11   0 137]]\n",
      "Accuracy: 90.609%\n",
      "\n",
      "[[141   0   3   0   1   0   4   1   2   0]\n",
      " [  0 181   2   0   1   0   1   0   2   1]\n",
      " [  2   1 164   2   1   0   3   2   3   0]\n",
      " [  1   0   7 129   0   4   0   0   1   0]\n",
      " [  1   0   3   0 115   0   3   1   0   5]\n",
      " [  0   1   1   8   0 128   1   0   2   3]\n",
      " [  4   0   2   0   1   4 155   0   0   0]\n",
      " [  0   0   6   2   2   1   1 146   1   8]\n",
      " [  2   2   1   7   3   7   0   0 129   1]\n",
      " [  1   0   1   3  13   0   0  13   1 127]]\n",
      "Accuracy: 89.784%\n",
      "\n",
      "No. Principle Components 20 resulted in 90.10% Accuracy\n",
      "No. Principle Components 40 resulted in 90.29% Accuracy\n",
      "No. Principle Components 60 resulted in 90.74% Accuracy\n",
      "No. Principle Components 80 resulted in 90.86% Accuracy\n",
      "No. Principle Components 100 resulted in 90.61% Accuracy\n",
      "No. Principle Components 120 resulted in 89.78% Accuracy\n"
     ]
    }
   ],
   "source": [
    "n_components = [20,40,60,80,100,120]\n",
    "results_pca_X_pca = []\n",
    "for n in n_components:\n",
    "    results_pca_X_pca.append(do_pca(n,X))\n",
    "    \n",
    "result_pca_acc = []\n",
    "for pca,X_pca in results_pca_X_pca:\n",
    "    result_pca_acc.append(fit_predict(rf_clf,X_pca,y))\n",
    "for n_comp,acc in zip(n_components,result_pca_acc):\n",
    "    print(f'No. Principle Components {n_comp} resulted in {acc*100:.2f}% Accuracy')"
   ]
  },
  {
   "cell_type": "markdown",
   "metadata": {},
   "source": [
    "These results show that 80 principle components for this dataset resulted in the highest testing accuracy."
   ]
  }
 ],
 "metadata": {
  "kernelspec": {
   "display_name": "Python 3",
   "language": "python",
   "name": "python3"
  },
  "language_info": {
   "codemirror_mode": {
    "name": "ipython",
    "version": 3
   },
   "file_extension": ".py",
   "mimetype": "text/x-python",
   "name": "python",
   "nbconvert_exporter": "python",
   "pygments_lexer": "ipython3",
   "version": "3.7.3"
  },
  "toc": {
   "base_numbering": 1,
   "nav_menu": {},
   "number_sections": true,
   "sideBar": true,
   "skip_h1_title": false,
   "title_cell": "Table of Contents",
   "title_sidebar": "Contents",
   "toc_cell": false,
   "toc_position": {},
   "toc_section_display": true,
   "toc_window_display": false
  },
  "varInspector": {
   "cols": {
    "lenName": 16,
    "lenType": 16,
    "lenVar": 40
   },
   "kernels_config": {
    "python": {
     "delete_cmd_postfix": "",
     "delete_cmd_prefix": "del ",
     "library": "var_list.py",
     "varRefreshCmd": "print(var_dic_list())"
    },
    "r": {
     "delete_cmd_postfix": ") ",
     "delete_cmd_prefix": "rm(",
     "library": "var_list.r",
     "varRefreshCmd": "cat(var_dic_list()) "
    }
   },
   "types_to_exclude": [
    "module",
    "function",
    "builtin_function_or_method",
    "instance",
    "_Feature"
   ],
   "window_display": false
  }
 },
 "nbformat": 4,
 "nbformat_minor": 2
}
