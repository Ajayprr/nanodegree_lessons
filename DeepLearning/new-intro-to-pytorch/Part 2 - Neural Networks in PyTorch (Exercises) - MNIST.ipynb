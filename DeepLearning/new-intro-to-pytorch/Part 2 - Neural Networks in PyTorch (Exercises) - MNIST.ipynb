{
 "cells": [
  {
   "cell_type": "markdown",
   "metadata": {},
   "source": [
    "# Neural networks with PyTorch\n",
    "\n",
    "Deep learning networks tend to be massive with dozens or hundreds of layers, that's where the term \"deep\" comes from. You can build one of these deep networks using only weight matrices as we did in the previous notebook, but in general it's very cumbersome and difficult to implement. PyTorch has a nice module `nn` that provides a nice way to efficiently build large neural networks."
   ]
  },
  {
   "cell_type": "code",
   "execution_count": 1,
   "metadata": {},
   "outputs": [],
   "source": [
    "# Import necessary packages\n",
    "\n",
    "%matplotlib inline\n",
    "%config InlineBackend.figure_format = 'retina'\n",
    "\n",
    "import numpy as np\n",
    "import torch\n",
    "\n",
    "import helper\n",
    "\n",
    "import matplotlib.pyplot as plt"
   ]
  },
  {
   "cell_type": "markdown",
   "metadata": {},
   "source": [
    "\n",
    "Now we're going to build a larger network that can solve a (formerly) difficult problem, identifying text in an image. Here we'll use the MNIST dataset which consists of greyscale handwritten digits. Each image is 28x28 pixels, you can see a sample below\n",
    "\n",
    "<img src='assets/mnist.png'>\n",
    "\n",
    "Our goal is to build a neural network that can take one of these images and predict the digit in the image.\n",
    "\n",
    "First up, we need to get our dataset. This is provided through the `torchvision` package. The code below will download the MNIST dataset, then create training and test datasets for us. Don't worry too much about the details here, you'll learn more about this later."
   ]
  },
  {
   "cell_type": "code",
   "execution_count": 2,
   "metadata": {},
   "outputs": [
    {
     "name": "stderr",
     "output_type": "stream",
     "text": [
      "\r",
      "0it [00:00, ?it/s]"
     ]
    },
    {
     "name": "stdout",
     "output_type": "stream",
     "text": [
      "Downloading http://yann.lecun.com/exdb/mnist/train-images-idx3-ubyte.gz to /Users/patrickdeguzman/.pytorch/MNIST_data/MNIST/raw/train-images-idx3-ubyte.gz\n"
     ]
    },
    {
     "name": "stderr",
     "output_type": "stream",
     "text": [
      "9920512it [00:01, 5272126.03it/s]                             \n"
     ]
    },
    {
     "name": "stdout",
     "output_type": "stream",
     "text": [
      "Extracting /Users/patrickdeguzman/.pytorch/MNIST_data/MNIST/raw/train-images-idx3-ubyte.gz\n"
     ]
    },
    {
     "name": "stderr",
     "output_type": "stream",
     "text": [
      "  0%|          | 0/28881 [00:00<?, ?it/s]"
     ]
    },
    {
     "name": "stdout",
     "output_type": "stream",
     "text": [
      "Downloading http://yann.lecun.com/exdb/mnist/train-labels-idx1-ubyte.gz to /Users/patrickdeguzman/.pytorch/MNIST_data/MNIST/raw/train-labels-idx1-ubyte.gz\n"
     ]
    },
    {
     "name": "stderr",
     "output_type": "stream",
     "text": [
      "32768it [00:00, 115434.68it/s]           \n",
      "0it [00:00, ?it/s]"
     ]
    },
    {
     "name": "stdout",
     "output_type": "stream",
     "text": [
      "Extracting /Users/patrickdeguzman/.pytorch/MNIST_data/MNIST/raw/train-labels-idx1-ubyte.gz\n",
      "Downloading http://yann.lecun.com/exdb/mnist/t10k-images-idx3-ubyte.gz to /Users/patrickdeguzman/.pytorch/MNIST_data/MNIST/raw/t10k-images-idx3-ubyte.gz\n"
     ]
    },
    {
     "name": "stderr",
     "output_type": "stream",
     "text": [
      "1654784it [00:01, 1646278.06it/s]                            \n",
      "0it [00:00, ?it/s]"
     ]
    },
    {
     "name": "stdout",
     "output_type": "stream",
     "text": [
      "Extracting /Users/patrickdeguzman/.pytorch/MNIST_data/MNIST/raw/t10k-images-idx3-ubyte.gz\n",
      "Downloading http://yann.lecun.com/exdb/mnist/t10k-labels-idx1-ubyte.gz to /Users/patrickdeguzman/.pytorch/MNIST_data/MNIST/raw/t10k-labels-idx1-ubyte.gz\n"
     ]
    },
    {
     "name": "stderr",
     "output_type": "stream",
     "text": [
      "8192it [00:00, 44360.90it/s]            "
     ]
    },
    {
     "name": "stdout",
     "output_type": "stream",
     "text": [
      "Extracting /Users/patrickdeguzman/.pytorch/MNIST_data/MNIST/raw/t10k-labels-idx1-ubyte.gz\n",
      "Processing...\n",
      "Done!\n"
     ]
    },
    {
     "name": "stderr",
     "output_type": "stream",
     "text": [
      "\n"
     ]
    }
   ],
   "source": [
    "### Run this cell\n",
    "\n",
    "from torchvision import datasets, transforms\n",
    "\n",
    "# Define a transform to normalize the data\n",
    "transform = transforms.Compose([transforms.ToTensor(),\n",
    "                              transforms.Normalize((0.5,), (0.5,)),\n",
    "                              ])\n",
    "\n",
    "# Download and load the training data\n",
    "trainset = datasets.MNIST('~/.pytorch/MNIST_data/', download=True, train=True, transform=transform)\n",
    "trainloader = torch.utils.data.DataLoader(trainset, batch_size=64, shuffle=True)"
   ]
  },
  {
   "cell_type": "markdown",
   "metadata": {},
   "source": [
    "We have the training data loaded into `trainloader` and we make that an iterator with `iter(trainloader)`. Later, we'll use this to loop through the dataset for training, like\n",
    "\n",
    "```python\n",
    "for image, label in trainloader:\n",
    "    ## do things with images and labels\n",
    "```\n",
    "\n",
    "You'll notice I created the `trainloader` with a batch size of 64, and `shuffle=True`. The batch size is the number of images we get in one iteration from the data loader and pass through our network, often called a *batch*. And `shuffle=True` tells it to shuffle the dataset every time we start going through the data loader again. But here I'm just grabbing the first batch so we can check out the data. We can see below that `images` is just a tensor with size `(64, 1, 28, 28)`. So, 64 images per batch, 1 color channel, and 28x28 images."
   ]
  },
  {
   "cell_type": "code",
   "execution_count": 3,
   "metadata": {},
   "outputs": [
    {
     "name": "stdout",
     "output_type": "stream",
     "text": [
      "<class 'torch.Tensor'>\n",
      "torch.Size([64, 1, 28, 28])\n",
      "torch.Size([64])\n"
     ]
    }
   ],
   "source": [
    "dataiter = iter(trainloader)\n",
    "images, labels = dataiter.next()\n",
    "print(type(images))\n",
    "print(images.shape)\n",
    "print(labels.shape)"
   ]
  },
  {
   "cell_type": "markdown",
   "metadata": {},
   "source": [
    "This is what one of the images looks like. "
   ]
  },
  {
   "cell_type": "code",
   "execution_count": 4,
   "metadata": {},
   "outputs": [
    {
     "data": {
      "image/png": "[encoded data removed]",
      "text/plain": [
       "<Figure size 432x288 with 1 Axes>"
      ]
     },
     "metadata": {
      "image/png": {
       "height": 250,
       "width": 253
      },
      "needs_background": "light"
     },
     "output_type": "display_data"
    }
   ],
   "source": [
    "plt.imshow(images[1].numpy().squeeze(), cmap='Greys_r');"
   ]
  },
  {
   "cell_type": "markdown",
   "metadata": {},
   "source": [
    "First, let's try to build a simple network for this dataset using weight matrices and matrix multiplications. Then, we'll see how to do it using PyTorch's `nn` module which provides a much more convenient and powerful method for defining network architectures.\n",
    "\n",
    "The networks you've seen so far are called *fully-connected* or *dense* networks. Each unit in one layer is connected to each unit in the next layer. In fully-connected networks, the input to each layer must be a one-dimensional vector (which can be stacked into a 2D tensor as a batch of multiple examples). However, our images are 28x28 2D tensors, so we need to convert them into 1D vectors. Thinking about sizes, we need to convert the batch of images with shape `(64, 1, 28, 28)` to a have a shape of `(64, 784)`, 784 is 28 times 28. This is typically called *flattening*, we flattened the 2D images into 1D vectors.\n",
    "\n",
    "Previously you built a network with one output unit. Here we need 10 output units, one for each digit. We want our network to predict the digit shown in an image, so what we'll do is calculate probabilities that the image is of any one digit or class. This ends up being a discrete probability distribution over the classes (digits) that tells us the most likely class for the image. That means we need 10 output units for the 10 classes (digits). We'll see how to convert the network output into a probability distribution next.\n",
    "\n",
    "> **Exercise:** Flatten the batch of images `images`. Then build a multi-layer network with 784 input units, 256 hidden units, and 10 output units using random tensors for the weights and biases. For now, use a sigmoid activation for the hidden layer. Leave the output layer without an activation, we'll add one that gives us a probability distribution next."
   ]
  },
  {
   "cell_type": "code",
   "execution_count": 54,
   "metadata": {},
   "outputs": [
    {
     "name": "stdout",
     "output_type": "stream",
     "text": [
      "torch.Size([64, 10])\n"
     ]
    },
    {
     "data": {
      "text/plain": [
       "tensor([[-3.2844e+01,  5.3002e+00, -2.1794e+01,  3.6656e+00, -2.8798e+00,\n",
       "          2.4073e+00,  6.2156e+00, -2.4765e+01, -8.5297e+00, -1.9966e+01],\n",
       "        [-1.6926e+01, -1.7811e+00, -2.0260e+01,  4.9364e+00, -4.7500e+00,\n",
       "         -9.7360e+00,  2.1385e+00, -2.0622e+01, -1.2641e+01, -1.6054e+01],\n",
       "        [-1.1950e+01,  1.0135e+00, -2.4907e+01,  1.6679e+00, -9.8745e+00,\n",
       "         -7.7873e+00,  3.4590e+00, -1.1858e+01, -1.2175e+01, -1.6746e+01],\n",
       "        [-1.8222e+01, -1.3102e+00, -1.8042e+01,  5.4146e+00, -1.1621e+01,\n",
       "          7.6993e-01,  1.5350e+01, -1.8163e+01, -1.1967e+01, -1.8574e+01],\n",
       "        [-1.4912e+01,  3.9212e+00, -2.2864e+01,  3.7520e+00,  2.3959e+00,\n",
       "         -6.2884e+00,  7.4197e+00, -1.7821e+01, -1.7810e+01, -1.4383e+01],\n",
       "        [-1.6293e+01,  1.1021e+01, -1.2631e+01,  5.1964e+00,  1.5857e+00,\n",
       "         -3.9193e+00,  5.8532e+00, -1.3318e+01, -2.2906e+01, -2.1833e+01],\n",
       "        [-2.1180e+01,  1.1115e+01, -1.8615e+01,  1.1074e+01, -3.3661e+00,\n",
       "          6.4509e+00,  9.5386e+00, -2.0118e+01, -7.9168e+00, -1.9038e+01],\n",
       "        [-1.6032e+01,  4.8115e+00, -2.6338e+01, -3.2885e+00, -4.7531e+00,\n",
       "         -4.2695e+00,  3.6489e+00, -4.9516e+00, -6.8134e+00, -1.5374e+01],\n",
       "        [-2.5704e+01,  7.8029e+00, -2.3368e+01,  1.1550e+01, -2.6798e+00,\n",
       "         -6.5498e+00, -1.4253e+00, -1.1487e+01, -1.0883e+01, -2.4649e+01],\n",
       "        [-2.6037e+01,  7.4986e+00, -2.2819e+01,  6.5138e+00,  4.8303e+00,\n",
       "         -6.3781e-02, -3.5299e-01, -1.6332e+01,  5.3263e+00, -2.4586e+01],\n",
       "        [-7.1262e+00,  3.6014e+00, -2.0655e+01,  3.8883e+00, -2.4170e+00,\n",
       "         -1.5843e+01,  7.9793e+00, -1.5503e+01, -8.6638e+00, -1.9303e+01],\n",
       "        [-1.9121e+01,  6.6918e+00, -2.7235e+01,  7.7017e+00, -1.3002e+01,\n",
       "         -1.2992e+01,  1.3157e+01, -6.8725e+00, -2.1745e+01, -1.5260e+01],\n",
       "        [-2.7969e+01,  8.4165e+00, -1.7951e+01,  7.7215e+00,  2.8743e+00,\n",
       "          2.0869e+00,  7.9009e+00, -1.5736e+01, -1.1095e+01, -1.9684e+01],\n",
       "        [-1.3372e+01,  5.9130e+00, -2.1617e+01,  5.0373e+00, -1.1014e+00,\n",
       "         -5.8444e+00, -6.4091e-01, -1.8939e+01, -3.7372e+00, -2.3281e+01],\n",
       "        [-2.0289e+01, -2.6764e+00, -2.2564e+01,  2.3311e+00, -9.4360e+00,\n",
       "          6.5844e-01,  1.7211e+00, -1.3941e+01, -1.9610e+01, -6.0321e+00],\n",
       "        [-2.1856e+01,  4.4701e-01, -1.6844e+01,  6.6794e+00, -1.4565e+00,\n",
       "          4.0633e+00,  2.0166e+00, -1.5408e+01, -4.5659e+00, -1.9625e+01],\n",
       "        [-2.6931e+01,  5.2660e+00, -1.3101e+01,  1.3686e+00, -3.8333e+00,\n",
       "         -2.5237e+00, -3.3978e+00, -2.0247e+01, -1.2931e+01, -1.8451e+01],\n",
       "        [-1.9259e+01, -6.7770e-01, -1.6375e+01,  1.1579e+01, -5.3223e+00,\n",
       "         -6.3069e+00, -1.1789e+00, -1.8223e+01, -4.6014e+00, -1.8187e+01],\n",
       "        [-1.3344e+01,  4.1399e+00, -2.5130e+01,  7.5949e+00,  3.4668e+00,\n",
       "         -3.0937e+00, -9.7498e+00, -1.0408e+01, -7.5594e+00, -2.2937e+01],\n",
       "        [-2.5591e+01,  5.7088e+00, -1.4545e+01,  8.6515e+00, -2.6472e+00,\n",
       "          1.9249e+00,  8.6675e-01, -1.3193e+01,  1.9004e+00, -1.7313e+01],\n",
       "        [-1.9761e+01,  2.8823e+00, -1.5587e+01,  1.1167e+01,  4.5137e+00,\n",
       "         -1.4906e+00,  1.3607e+00, -1.9417e+01, -5.2306e+00, -2.3101e+01],\n",
       "        [-1.0599e+01,  1.5825e+00, -2.1080e+01,  9.4660e+00,  2.9299e+00,\n",
       "         -7.8702e+00,  1.1773e+01, -1.2732e+01, -9.5280e+00, -2.0317e+01],\n",
       "        [-1.5383e+01,  7.6981e+00, -2.1877e+01,  1.0904e+01, -5.7380e+00,\n",
       "         -1.5205e+01,  6.1785e+00, -1.0590e+01, -4.7473e+00, -1.1078e+01],\n",
       "        [-3.0032e+01,  1.2062e+01, -1.5900e+01,  4.0305e+00, -3.0467e+00,\n",
       "          5.6924e+00,  2.4678e+00, -2.8528e+01, -1.3401e+01, -1.2155e+01],\n",
       "        [-3.0979e+01, -1.5310e+00, -2.0191e+01,  5.7138e+00,  4.5433e+00,\n",
       "         -3.7465e+00,  4.9004e+00, -2.0181e+01, -9.8569e+00, -7.4782e+00],\n",
       "        [-8.5969e+00, -4.3270e+00, -1.8468e+01,  5.5503e-01, -5.0271e+00,\n",
       "         -8.6918e+00,  1.0035e+01, -1.5302e+01, -5.5365e-02, -1.7031e+01],\n",
       "        [-1.9549e+01,  4.5628e+00, -1.9865e+01,  1.4606e+01,  3.8422e+00,\n",
       "         -2.0809e+00,  4.6634e+00, -1.2895e+01, -1.4185e+01, -1.9455e+01],\n",
       "        [-2.3330e+01,  2.5913e+00, -2.3477e+01,  1.3983e+01, -2.4838e+00,\n",
       "         -1.7027e+00,  3.2337e+00, -1.3093e+01, -1.9754e+01, -1.0972e+01],\n",
       "        [-2.2107e+01,  5.8182e+00, -1.7104e+01,  1.0544e+01, -1.1311e+00,\n",
       "         -1.6785e-02,  3.6137e+00, -1.6896e+01, -2.2326e+01, -2.0184e+01],\n",
       "        [-2.3242e+01,  9.7543e+00, -2.0469e+01,  8.0403e+00, -4.9817e-02,\n",
       "         -1.4332e+01,  1.3344e+01, -1.3737e+01, -2.1579e+01, -1.9076e+01],\n",
       "        [-3.1627e+01,  1.3089e+00, -1.3157e+01, -1.6765e+00, -1.0657e+01,\n",
       "         -3.8946e+00, -1.3427e+00, -1.0918e+01, -1.7551e-01, -1.2796e+01],\n",
       "        [-1.5749e+01,  2.0172e+00, -2.6993e+01,  1.2427e+01,  8.9128e+00,\n",
       "         -6.7604e+00, -1.4663e+00, -1.3806e+01, -4.4860e+00, -2.2013e+01],\n",
       "        [-1.0136e+01,  1.2284e+00, -2.2233e+01,  8.6640e+00,  1.1750e+00,\n",
       "         -1.8174e+00,  6.4359e+00, -2.2203e+01, -6.2571e+00, -1.7971e+01],\n",
       "        [-7.3249e+00, -2.2875e+00, -2.3480e+01,  1.8076e+01, -1.0306e+01,\n",
       "         -2.8522e+00, -6.4244e+00, -1.8185e+01,  5.3483e+00, -1.3188e+01],\n",
       "        [-1.4476e+01,  8.1223e+00, -2.5307e+01, -1.3920e-02, -8.8093e+00,\n",
       "          3.4755e+00,  2.7923e+00, -1.7290e+01,  8.4431e-01, -1.9297e+01],\n",
       "        [-1.9219e+01,  3.5030e+00, -1.7811e+01,  7.0421e+00, -6.8144e-01,\n",
       "         -7.0801e+00,  5.3468e+00, -2.3894e+01, -1.3087e+01, -1.7640e+01],\n",
       "        [-1.7868e+01, -2.0201e+00, -1.4813e+01,  7.6319e+00, -9.9126e+00,\n",
       "         -9.0294e-01,  2.1869e+00, -1.7411e+01, -4.8010e+00, -2.0514e+01],\n",
       "        [-1.6083e+01, -3.8937e+00, -1.8002e+01,  8.9014e-01, -7.7913e+00,\n",
       "         -7.8387e+00, -8.0229e+00, -1.3076e+01, -9.9288e+00, -1.7344e+01],\n",
       "        [-1.6485e+01, -1.6650e+00, -1.9251e+01,  1.3682e+01,  5.5707e+00,\n",
       "         -2.3551e+00,  2.5311e-02, -1.0975e+01, -8.8336e+00, -2.6824e+01],\n",
       "        [-1.2964e+01,  4.9802e+00, -1.9283e+01,  6.0070e+00, -5.0788e+00,\n",
       "         -1.7387e+01,  4.3018e+00, -1.5920e+01, -1.5556e+01, -1.9955e+01],\n",
       "        [-1.4264e+01, -1.1292e+00, -1.7442e+01,  1.4223e+00, -9.5308e+00,\n",
       "         -9.9952e+00,  1.6656e+01, -1.1352e+01, -1.3564e+01, -1.2418e+01],\n",
       "        [-1.9680e+01, -7.3702e+00, -1.8554e+01,  1.4619e+01, -1.2949e+01,\n",
       "          1.2930e+00,  7.7638e+00, -1.2307e+01, -1.1452e+00, -2.3146e+01],\n",
       "        [-1.6428e+01,  5.1952e+00, -1.4453e+01,  3.6900e+00,  3.1110e+00,\n",
       "         -3.4749e-01, -2.9948e-01, -1.5919e+01, -1.1273e+01, -1.0074e+01],\n",
       "        [-3.2682e+01,  1.0661e+00, -1.3988e+01, -5.9312e+00, -1.3901e+00,\n",
       "         -5.9596e+00,  3.9236e+00, -1.3435e+01, -7.2165e+00, -1.4473e+01],\n",
       "        [-1.9700e+01,  1.2329e+00, -2.0540e+01,  1.9338e+01, -1.4129e+00,\n",
       "          1.1086e+00,  2.6397e+00, -1.0012e+01, -8.2861e-01, -1.8354e+01],\n",
       "        [-3.7097e+01,  4.2272e+00, -2.2846e+01,  1.0473e+01, -3.9032e+00,\n",
       "         -6.1320e-01,  3.5857e+00, -1.9759e+01, -1.1030e+01, -1.2420e+01],\n",
       "        [-2.1750e+01,  8.3305e-01, -1.8850e+01,  9.8164e+00, -4.4027e+00,\n",
       "          1.4370e+00,  4.1829e+00, -1.1497e+01, -1.5106e+01, -1.6646e+01],\n",
       "        [-1.2652e+01,  2.6132e+00, -1.8097e+01, -2.8925e+00, -4.3201e+00,\n",
       "         -3.8063e+00, -3.7043e+00, -8.6067e+00, -1.1972e+01, -1.9499e+01],\n",
       "        [-1.4936e+01,  2.6376e+00, -2.0318e+01, -2.5775e+00,  1.9074e+00,\n",
       "         -8.2687e+00,  4.9231e+00, -1.1338e+01, -1.6122e+01, -8.6355e+00],\n",
       "        [-1.5452e+01,  7.4493e+00, -2.8401e+01,  9.0886e+00, -2.4955e+00,\n",
       "         -1.3149e+00, -8.1814e+00, -1.4117e+01, -8.8713e+00, -2.0614e+01],\n",
       "        [-1.7585e+01,  2.3655e+00, -2.3864e+01,  4.6284e+00, -4.5664e+00,\n",
       "         -3.4938e+00, -6.4151e-01, -1.6304e+01, -9.2723e+00, -1.7092e+01],\n",
       "        [-2.5196e+01,  2.9393e+00, -1.7380e+01,  1.1248e+01,  9.4871e-02,\n",
       "         -7.6282e+00,  1.6506e+00, -1.8678e+01, -1.1360e+01, -2.7525e+01],\n",
       "        [-3.0664e+01,  9.5987e+00, -1.3488e+01,  1.7332e+01, -1.1823e+01,\n",
       "          3.1021e+00,  9.9111e+00, -1.0756e+01, -1.1354e+01, -1.3021e+01],\n",
       "        [-2.5062e+01,  6.6063e+00, -2.0346e+01,  4.0120e+00, -1.1896e+01,\n",
       "         -4.9226e+00, -1.4470e+00, -1.0365e+01, -9.3458e+00, -1.5064e+01],\n",
       "        [-1.0313e+01,  3.5538e+00, -2.8181e+01,  3.8468e+00,  1.7368e+00,\n",
       "         -9.6960e+00,  1.7254e-01, -8.2751e+00, -4.8384e+00, -2.0054e+01],\n",
       "        [-1.3260e+01,  5.8026e+00, -1.7085e+01,  1.0490e+01, -1.1134e+01,\n",
       "         -1.3737e+01,  5.8418e+00, -1.2729e+01, -1.0904e+01, -1.3621e+01],\n",
       "        [-2.0703e+01, -2.5051e+00, -1.8002e+01,  1.0633e+01,  3.5238e+00,\n",
       "         -5.4895e+00,  7.2081e+00, -9.7819e+00, -9.4817e+00, -1.5314e+01],\n",
       "        [-2.3312e+01,  3.6124e+00, -1.7466e+01,  6.7985e+00, -1.9209e+00,\n",
       "         -7.7374e+00,  4.3511e+00, -2.3898e+01, -6.7641e+00, -2.8007e+01],\n",
       "        [-1.5498e+01,  2.8001e+00, -1.7440e+01,  9.3485e+00, -4.1151e+00,\n",
       "          5.9469e-01, -3.8955e+00, -1.5529e+01, -2.3160e+00, -1.9089e+01],\n",
       "        [-3.0593e+01,  7.7678e+00, -2.8654e+01,  1.1337e+00, -8.6776e+00,\n",
       "         -4.8184e+00,  6.6645e+00, -1.7000e+01,  1.0767e+01, -1.7883e+01],\n",
       "        [-2.6503e+01,  8.3654e+00, -2.1870e+01,  5.3412e+00, -9.9595e-01,\n",
       "          7.4314e+00,  5.8919e+00, -1.6696e+01, -1.4493e+01, -5.0612e+00],\n",
       "        [-1.7714e+01, -2.5660e+00, -1.7170e+01,  3.9029e+00, -3.4139e+00,\n",
       "         -8.3783e+00, -1.6196e+00, -1.8210e+01, -1.2666e+01, -1.5237e+01],\n",
       "        [-1.7176e+01,  8.6793e+00, -1.9154e+01,  6.0834e+00, -1.4772e+00,\n",
       "         -8.2892e+00,  5.5231e+00, -2.3836e+01, -6.8691e-01, -1.9229e+01],\n",
       "        [-1.8290e+01, -2.7240e+00, -2.3674e+01,  4.1074e+00,  2.1817e+00,\n",
       "         -5.7869e+00,  5.5303e+00, -1.8591e+01, -3.2610e+00, -2.7817e+01]])"
      ]
     },
     "execution_count": 54,
     "metadata": {},
     "output_type": "execute_result"
    }
   ],
   "source": [
    "## Your solution\n",
    "    # 784 input units\n",
    "    # 256 hidden units in one hidden layer\n",
    "    # 10 output units\n",
    "    # Random bias\n",
    "    # All using sigmoid activation\n",
    "\n",
    "# Setting activation function\n",
    "def activation(x):\n",
    "    return 1/(1+torch.exp(-x))\n",
    "\n",
    "# Flattening the images\n",
    "flat = images.view(images.shape[0],-1)\n",
    "\n",
    "# Setting hyperparameters for the neural network\n",
    "n_inputs = 784\n",
    "n_hidden = 256\n",
    "n_output = 10\n",
    "\n",
    "#Setting random weights & biases\n",
    "    # Note, we need 1 bias for each unit (256 for hidden, and 10 for output)\n",
    "W1 = torch.randn(n_inputs,n_hidden)\n",
    "W2 = torch.randn(n_hidden,n_output)\n",
    "B1 = torch.randn(n_hidden)\n",
    "B2 = torch.randn(n_output)\n",
    "\n",
    "# Feedforward\n",
    "h_s = activation(torch.mm(flat,W1)+B1)\n",
    "out = torch.mm(h_s,W2)+B2\n",
    "\n",
    "print(out.shape)\n",
    "out"
   ]
  },
  {
   "cell_type": "markdown",
   "metadata": {},
   "source": [
    "Now we have 10 outputs for our network. We want to pass in an image to our network and get out a probability distribution over the classes that tells us the likely class(es) the image belongs to. Something that looks like this:\n",
    "<img src='assets/image_distribution.png' width=500px>\n",
    "\n",
    "Here we see that the probability for each class is roughly the same. This is representing an untrained network, it hasn't seen any data yet so it just returns a uniform distribution with equal probabilities for each class.\n",
    "\n",
    "To calculate this probability distribution, we often use the [**softmax** function](https://en.wikipedia.org/wiki/Softmax_function). Mathematically this looks like\n",
    "\n",
    "$$\n",
    "\\Large \\sigma(x_i) = \\cfrac{e^{x_i}}{\\sum_k^K{e^{x_k}}}\n",
    "$$\n",
    "\n",
    "What this does is squish each input $x_i$ between 0 and 1 and normalizes the values to give you a proper probability distribution where the probabilites sum up to one.\n",
    "\n",
    "> **Exercise:** Implement a function `softmax` that performs the softmax calculation and returns probability distributions for each example in the batch. Note that you'll need to pay attention to the shapes when doing this. If you have a tensor `a` with shape `(64, 10)` and a tensor `b` with shape `(64,)`, doing `a/b` will give you an error because PyTorch will try to do the division across the columns (called broadcasting) but you'll get a size mismatch. The way to think about this is for each of the 64 examples, you only want to divide by one value, the sum in the denominator. So you need `b` to have a shape of `(64, 1)`. This way PyTorch will divide the 10 values in each row of `a` by the one value in each row of `b`. Pay attention to how you take the sum as well. You'll need to define the `dim` keyword in `torch.sum`. Setting `dim=0` takes the sum across the rows while `dim=1` takes the sum across the columns."
   ]
  },
  {
   "cell_type": "code",
   "execution_count": 79,
   "metadata": {},
   "outputs": [
    {
     "name": "stdout",
     "output_type": "stream",
     "text": [
      "torch.Size([64, 10])\n",
      "tensor([1.0000, 1.0000, 1.0000, 1.0000, 1.0000, 1.0000, 1.0000, 1.0000, 1.0000,\n",
      "        1.0000, 1.0000, 1.0000, 1.0000, 1.0000, 1.0000, 1.0000, 1.0000, 1.0000,\n",
      "        1.0000, 1.0000, 1.0000, 1.0000, 1.0000, 1.0000, 1.0000, 1.0000, 1.0000,\n",
      "        1.0000, 1.0000, 1.0000, 1.0000, 1.0000, 1.0000, 1.0000, 1.0000, 1.0000,\n",
      "        1.0000, 1.0000, 1.0000, 1.0000, 1.0000, 1.0000, 1.0000, 1.0000, 1.0000,\n",
      "        1.0000, 1.0000, 1.0000, 1.0000, 1.0000, 1.0000, 1.0000, 1.0000, 1.0000,\n",
      "        1.0000, 1.0000, 1.0000, 1.0000, 1.0000, 1.0000, 1.0000, 1.0000, 1.0000,\n",
      "        1.0000])\n"
     ]
    }
   ],
   "source": [
    "def softmax(x):\n",
    "    totals = torch.exp(x).sum(dim=1)\n",
    "    return torch.exp(x)/totals.view(-1,1)\n",
    "\n",
    "# Here, out should be the output of the network in the previous excercise with shape (64,10)\n",
    "probabilities = softmax(out)\n",
    "\n",
    "# Does it have the right shape? Should be (64, 10)\n",
    "print(probabilities.shape)\n",
    "# Does it sum to 1?\n",
    "print(probabilities.sum(dim=1))"
   ]
  },
  {
   "cell_type": "markdown",
   "metadata": {},
   "source": [
    "## Building networks with PyTorch\n",
    "\n",
    "PyTorch provides a module `nn` that makes building networks much simpler. Here I'll show you how to build the same one as above with 784 inputs, 256 hidden units, 10 output units and a softmax output."
   ]
  },
  {
   "cell_type": "code",
   "execution_count": 80,
   "metadata": {},
   "outputs": [],
   "source": [
    "from torch import nn"
   ]
  },
  {
   "cell_type": "code",
   "execution_count": 81,
   "metadata": {},
   "outputs": [],
   "source": [
    "class Network(nn.Module):\n",
    "    def __init__(self):\n",
    "        super().__init__()\n",
    "        \n",
    "        # Inputs to hidden layer linear transformation\n",
    "        self.hidden = nn.Linear(784, 256)\n",
    "        # Output layer, 10 units - one for each digit\n",
    "        self.output = nn.Linear(256, 10)\n",
    "        \n",
    "        # Define sigmoid activation and softmax output \n",
    "        self.sigmoid = nn.Sigmoid()\n",
    "        self.softmax = nn.Softmax(dim=1)\n",
    "        \n",
    "    def forward(self, x):\n",
    "        # Pass the input tensor through each of our operations\n",
    "        x = self.hidden(x)\n",
    "        x = self.sigmoid(x)\n",
    "        x = self.output(x)\n",
    "        x = self.softmax(x)\n",
    "        \n",
    "        return x"
   ]
  },
  {
   "cell_type": "markdown",
   "metadata": {},
   "source": [
    "Let's go through this bit by bit.\n",
    "\n",
    "```python\n",
    "class Network(nn.Module):\n",
    "```\n",
    "\n",
    "Here we're inheriting from `nn.Module`. Combined with `super().__init__()` this creates a class that tracks the architecture and provides a lot of useful methods and attributes. It is mandatory to inherit from `nn.Module` when you're creating a class for your network. The name of the class itself can be anything.\n",
    "\n",
    "```python\n",
    "self.hidden = nn.Linear(784, 256)\n",
    "```\n",
    "\n",
    "This line creates a module for a linear transformation, $x\\mathbf{W} + b$, with 784 inputs and 256 outputs and assigns it to `self.hidden`. The module automatically creates the weight and bias tensors which we'll use in the `forward` method. You can access the weight and bias tensors once the network (`net`) is created with `net.hidden.weight` and `net.hidden.bias`.\n",
    "\n",
    "```python\n",
    "self.output = nn.Linear(256, 10)\n",
    "```\n",
    "\n",
    "Similarly, this creates another linear transformation with 256 inputs and 10 outputs.\n",
    "\n",
    "```python\n",
    "self.sigmoid = nn.Sigmoid()\n",
    "self.softmax = nn.Softmax(dim=1)\n",
    "```\n",
    "\n",
    "Here I defined operations for the sigmoid activation and softmax output. Setting `dim=1` in `nn.Softmax(dim=1)` calculates softmax across the columns.\n",
    "\n",
    "```python\n",
    "def forward(self, x):\n",
    "```\n",
    "\n",
    "PyTorch networks created with `nn.Module` must have a `forward` method defined. It takes in a tensor `x` and passes it through the operations you defined in the `__init__` method.\n",
    "\n",
    "```python\n",
    "x = self.hidden(x)\n",
    "x = self.sigmoid(x)\n",
    "x = self.output(x)\n",
    "x = self.softmax(x)\n",
    "```\n",
    "\n",
    "Here the input tensor `x` is passed through each operation a reassigned to `x`. We can see that the input tensor goes through the hidden layer, then a sigmoid function, then the output layer, and finally the softmax function. It doesn't matter what you name the variables here, as long as the inputs and outputs of the operations match the network architecture you want to build. The order in which you define things in the `__init__` method doesn't matter, but you'll need to sequence the operations correctly in the `forward` method.\n",
    "\n",
    "Now we can create a `Network` object."
   ]
  },
  {
   "cell_type": "code",
   "execution_count": 84,
   "metadata": {},
   "outputs": [
    {
     "data": {
      "text/plain": [
       "Network(\n",
       "  (hidden): Linear(in_features=784, out_features=256, bias=True)\n",
       "  (output): Linear(in_features=256, out_features=10, bias=True)\n",
       "  (sigmoid): Sigmoid()\n",
       "  (softmax): Softmax()\n",
       ")"
      ]
     },
     "execution_count": 84,
     "metadata": {},
     "output_type": "execute_result"
    }
   ],
   "source": [
    "# Create the network and look at it's text representation\n",
    "model = Network()\n",
    "model"
   ]
  },
  {
   "cell_type": "markdown",
   "metadata": {},
   "source": [
    "You can define the network somewhat more concisely and clearly using the `torch.nn.functional` module. This is the most common way you'll see networks defined as many operations are simple element-wise functions. We normally import this module as `F`, `import torch.nn.functional as F`."
   ]
  },
  {
   "cell_type": "code",
   "execution_count": 85,
   "metadata": {},
   "outputs": [],
   "source": [
    "import torch.nn.functional as F\n",
    "\n",
    "class Network(nn.Module):\n",
    "    def __init__(self):\n",
    "        super().__init__()\n",
    "        # Inputs to hidden layer linear transformation\n",
    "        self.hidden = nn.Linear(784, 256)\n",
    "        # Output layer, 10 units - one for each digit\n",
    "        self.output = nn.Linear(256, 10)\n",
    "        \n",
    "    def forward(self, x):\n",
    "        # Hidden layer with sigmoid activation\n",
    "        x = F.sigmoid(self.hidden(x))\n",
    "        # Output layer with softmax activation\n",
    "        x = F.softmax(self.output(x), dim=1)\n",
    "        \n",
    "        return x"
   ]
  },
  {
   "cell_type": "markdown",
   "metadata": {},
   "source": [
    "### Activation functions\n",
    "\n",
    "So far we've only been looking at the softmax activation, but in general any function can be used as an activation function. The only requirement is that for a network to approximate a non-linear function, the activation functions must be non-linear. Here are a few more examples of common activation functions: Tanh (hyperbolic tangent), and ReLU (rectified linear unit).\n",
    "\n",
    "<img src=\"assets/activation.png\" width=700px>\n",
    "\n",
    "In practice, the ReLU function is used almost exclusively as the activation function for hidden layers."
   ]
  },
  {
   "cell_type": "markdown",
   "metadata": {},
   "source": [
    "### Your Turn to Build a Network\n",
    "\n",
    "<img src=\"assets/mlp_mnist.png\" width=600px>\n",
    "\n",
    "> **Exercise:** Create a network with 784 input units, a hidden layer with 128 units and a ReLU activation, then a hidden layer with 64 units and a ReLU activation, and finally an output layer with a softmax activation as shown above. You can use a ReLU activation with the `nn.ReLU` module or `F.relu` function."
   ]
  },
  {
   "cell_type": "code",
   "execution_count": null,
   "metadata": {},
   "outputs": [],
   "source": [
    "import torch.nn.functional as F\n",
    "\n",
    "class Network(nn.Module):\n",
    "    def __init__(self):\n",
    "        super().__init__()\n",
    "        # Inputs to hidden layer linear transformation\n",
    "        self.hidden = nn.Linear(784, 256)\n",
    "        # Output layer, 10 units - one for each digit\n",
    "        self.output = nn.Linear(256, 10)\n",
    "        \n",
    "    def forward(self, x):\n",
    "        # Hidden layer with sigmoid activation\n",
    "        x = F.sigmoid(self.hidden(x))\n",
    "        # Output layer with softmax activation\n",
    "        x = F.softmax(self.output(x), dim=1)\n",
    "        \n",
    "        return x"
   ]
  },
  {
   "cell_type": "code",
   "execution_count": 100,
   "metadata": {
    "scrolled": true
   },
   "outputs": [
    {
     "data": {
      "text/plain": [
       "Network(\n",
       "  (fc1): Linear(in_features=784, out_features=128, bias=True)\n",
       "  (fc2): Linear(in_features=128, out_features=64, bias=True)\n",
       "  (fc3): Linear(in_features=64, out_features=10, bias=True)\n",
       ")"
      ]
     },
     "execution_count": 100,
     "metadata": {},
     "output_type": "execute_result"
    }
   ],
   "source": [
    "import torch.nn.functional as F\n",
    "class Network(nn.Module):\n",
    "    def __init__(self):\n",
    "        super().__init__()\n",
    "        self.fc1 = nn.Linear(784,128)\n",
    "        self.fc2 = nn.Linear(128,64)\n",
    "        self.fc3 = nn.Linear(64,10)\n",
    "    def Forward(self,x):\n",
    "        x = F.relu(self.hidden1(x))\n",
    "        x = F.relu(self.hidden2(x))\n",
    "        x = F.softmax(self.output(x),dim=1)\n",
    "        return x\n",
    "model = Network()\n",
    "model"
   ]
  },
  {
   "cell_type": "markdown",
   "metadata": {},
   "source": [
    "### Initializing weights and biases\n",
    "\n",
    "The weights and such are automatically initialized for you, but it's possible to customize how they are initialized. The weights and biases are tensors attached to the layer you defined, you can get them with `model.fc1.weight` for instance."
   ]
  },
  {
   "cell_type": "code",
   "execution_count": 107,
   "metadata": {},
   "outputs": [
    {
     "name": "stdout",
     "output_type": "stream",
     "text": [
      "Parameter containing:\n",
      "tensor([[-0.0337,  0.0348, -0.0091,  ..., -0.0204,  0.0128,  0.0333],\n",
      "        [ 0.0058,  0.0019,  0.0276,  ..., -0.0021,  0.0177, -0.0234],\n",
      "        [-0.0219,  0.0149, -0.0344,  ..., -0.0324, -0.0181,  0.0218],\n",
      "        ...,\n",
      "        [-0.0051, -0.0145, -0.0096,  ...,  0.0030, -0.0018, -0.0051],\n",
      "        [ 0.0172, -0.0347, -0.0256,  ...,  0.0233, -0.0094, -0.0034],\n",
      "        [ 0.0307, -0.0322, -0.0050,  ..., -0.0233,  0.0109,  0.0129]],\n",
      "       requires_grad=True)\n",
      "Parameter containing:\n",
      "tensor([ 0.0083,  0.0128,  0.0012, -0.0133,  0.0120, -0.0151,  0.0292, -0.0353,\n",
      "        -0.0021,  0.0065, -0.0239, -0.0249,  0.0266,  0.0067,  0.0009,  0.0233,\n",
      "        -0.0117, -0.0287,  0.0103, -0.0239,  0.0031,  0.0347,  0.0149,  0.0013,\n",
      "        -0.0140,  0.0281,  0.0235, -0.0204, -0.0286,  0.0045, -0.0095,  0.0023,\n",
      "         0.0013,  0.0258,  0.0218, -0.0143, -0.0205, -0.0024,  0.0297, -0.0098,\n",
      "        -0.0252,  0.0310, -0.0200, -0.0185,  0.0176, -0.0026, -0.0289, -0.0132,\n",
      "        -0.0106, -0.0182, -0.0344,  0.0074,  0.0037, -0.0181,  0.0076, -0.0199,\n",
      "        -0.0178,  0.0218, -0.0202,  0.0046,  0.0245,  0.0006, -0.0113, -0.0155,\n",
      "         0.0249, -0.0240, -0.0305, -0.0269, -0.0244, -0.0296, -0.0235,  0.0098,\n",
      "        -0.0022,  0.0324,  0.0236,  0.0163, -0.0011, -0.0323,  0.0244, -0.0177,\n",
      "         0.0244,  0.0157,  0.0053, -0.0253,  0.0215,  0.0012,  0.0123, -0.0086,\n",
      "        -0.0342, -0.0140, -0.0176,  0.0168,  0.0224, -0.0220, -0.0068,  0.0086,\n",
      "         0.0338,  0.0300,  0.0148, -0.0061, -0.0170,  0.0190,  0.0123, -0.0123,\n",
      "         0.0266, -0.0224, -0.0064,  0.0011,  0.0118, -0.0120,  0.0217, -0.0171,\n",
      "         0.0066, -0.0206, -0.0194, -0.0243, -0.0229, -0.0297,  0.0165, -0.0209,\n",
      "        -0.0262,  0.0186, -0.0224, -0.0353, -0.0024,  0.0036,  0.0073, -0.0331],\n",
      "       requires_grad=True)\n"
     ]
    }
   ],
   "source": [
    "print(model.fc1.weight)\n",
    "print(model.fc1.bias)"
   ]
  },
  {
   "cell_type": "markdown",
   "metadata": {},
   "source": [
    "For custom initialization, we want to modify these tensors in place. These are actually autograd *Variables*, so we need to get back the actual tensors with `model.fc1.weight.data`. Once we have the tensors, we can fill them with zeros (for biases) or random normal values."
   ]
  },
  {
   "cell_type": "code",
   "execution_count": 108,
   "metadata": {},
   "outputs": [
    {
     "data": {
      "text/plain": [
       "tensor([0., 0., 0., 0., 0., 0., 0., 0., 0., 0., 0., 0., 0., 0., 0., 0., 0., 0., 0., 0., 0., 0., 0., 0.,\n",
       "        0., 0., 0., 0., 0., 0., 0., 0., 0., 0., 0., 0., 0., 0., 0., 0., 0., 0., 0., 0., 0., 0., 0., 0.,\n",
       "        0., 0., 0., 0., 0., 0., 0., 0., 0., 0., 0., 0., 0., 0., 0., 0., 0., 0., 0., 0., 0., 0., 0., 0.,\n",
       "        0., 0., 0., 0., 0., 0., 0., 0., 0., 0., 0., 0., 0., 0., 0., 0., 0., 0., 0., 0., 0., 0., 0., 0.,\n",
       "        0., 0., 0., 0., 0., 0., 0., 0., 0., 0., 0., 0., 0., 0., 0., 0., 0., 0., 0., 0., 0., 0., 0., 0.,\n",
       "        0., 0., 0., 0., 0., 0., 0., 0.])"
      ]
     },
     "execution_count": 108,
     "metadata": {},
     "output_type": "execute_result"
    }
   ],
   "source": [
    "# Set biases to all zeros\n",
    "model.fc1.bias.data.fill_(0)"
   ]
  },
  {
   "cell_type": "code",
   "execution_count": 109,
   "metadata": {},
   "outputs": [
    {
     "data": {
      "text/plain": [
       "tensor([[-8.8944e-03,  4.7412e-03, -5.7503e-03,  ...,  2.4512e-03,\n",
       "          2.6009e-02,  2.5071e-03],\n",
       "        [-8.5276e-03,  4.2517e-04,  8.9211e-03,  ...,  3.0034e-04,\n",
       "         -6.1670e-03,  5.4078e-03],\n",
       "        [ 2.5043e-03,  7.0095e-03,  5.7029e-03,  ..., -3.0546e-03,\n",
       "         -2.3769e-02,  1.1502e-04],\n",
       "        ...,\n",
       "        [-7.2043e-03, -1.8541e-03, -1.1072e-02,  ...,  4.6741e-04,\n",
       "          2.5669e-02, -3.8611e-03],\n",
       "        [-7.8471e-03,  7.4784e-03,  8.1680e-05,  ..., -4.1092e-03,\n",
       "         -8.5823e-03, -1.8653e-02],\n",
       "        [ 1.0742e-02,  5.4726e-03, -1.0976e-02,  ...,  1.3931e-02,\n",
       "          5.6189e-04,  1.7671e-03]])"
      ]
     },
     "execution_count": 109,
     "metadata": {},
     "output_type": "execute_result"
    }
   ],
   "source": [
    "# sample from random normal with standard dev = 0.01\n",
    "model.fc1.weight.data.normal_(std=0.01)"
   ]
  },
  {
   "cell_type": "markdown",
   "metadata": {},
   "source": [
    "### Forward pass\n",
    "\n",
    "Now that we have a network, let's see what happens when we pass in an image."
   ]
  },
  {
   "cell_type": "code",
   "execution_count": 110,
   "metadata": {},
   "outputs": [
    {
     "ename": "NotImplementedError",
     "evalue": "",
     "output_type": "error",
     "traceback": [
      "\u001b[0;31m---------------------------------------------------------------------------\u001b[0m",
      "\u001b[0;31mNotImplementedError\u001b[0m                       Traceback (most recent call last)",
      "\u001b[0;32m<ipython-input-110-3760ccc5c3dd>\u001b[0m in \u001b[0;36m<module>\u001b[0;34m\u001b[0m\n\u001b[1;32m      9\u001b[0m \u001b[0;31m# Forward pass through the network\u001b[0m\u001b[0;34m\u001b[0m\u001b[0;34m\u001b[0m\u001b[0;34m\u001b[0m\u001b[0m\n\u001b[1;32m     10\u001b[0m \u001b[0mimg_idx\u001b[0m \u001b[0;34m=\u001b[0m \u001b[0;36m0\u001b[0m\u001b[0;34m\u001b[0m\u001b[0;34m\u001b[0m\u001b[0m\n\u001b[0;32m---> 11\u001b[0;31m \u001b[0mps\u001b[0m \u001b[0;34m=\u001b[0m \u001b[0mmodel\u001b[0m\u001b[0;34m.\u001b[0m\u001b[0mforward\u001b[0m\u001b[0;34m(\u001b[0m\u001b[0mimages\u001b[0m\u001b[0;34m[\u001b[0m\u001b[0mimg_idx\u001b[0m\u001b[0;34m,\u001b[0m\u001b[0;34m:\u001b[0m\u001b[0;34m]\u001b[0m\u001b[0;34m)\u001b[0m\u001b[0;34m\u001b[0m\u001b[0;34m\u001b[0m\u001b[0m\n\u001b[0m\u001b[1;32m     12\u001b[0m \u001b[0;34m\u001b[0m\u001b[0m\n\u001b[1;32m     13\u001b[0m \u001b[0mimg\u001b[0m \u001b[0;34m=\u001b[0m \u001b[0mimages\u001b[0m\u001b[0;34m[\u001b[0m\u001b[0mimg_idx\u001b[0m\u001b[0;34m]\u001b[0m\u001b[0;34m\u001b[0m\u001b[0;34m\u001b[0m\u001b[0m\n",
      "\u001b[0;32m~/anaconda3/lib/python3.7/site-packages/torch/nn/modules/module.py\u001b[0m in \u001b[0;36mforward\u001b[0;34m(self, *input)\u001b[0m\n\u001b[1;32m     86\u001b[0m             \u001b[0mregistered\u001b[0m \u001b[0mhooks\u001b[0m \u001b[0;32mwhile\u001b[0m \u001b[0mthe\u001b[0m \u001b[0mlatter\u001b[0m \u001b[0msilently\u001b[0m \u001b[0mignores\u001b[0m \u001b[0mthem\u001b[0m\u001b[0;34m.\u001b[0m\u001b[0;34m\u001b[0m\u001b[0;34m\u001b[0m\u001b[0m\n\u001b[1;32m     87\u001b[0m         \"\"\"\n\u001b[0;32m---> 88\u001b[0;31m         \u001b[0;32mraise\u001b[0m \u001b[0mNotImplementedError\u001b[0m\u001b[0;34m\u001b[0m\u001b[0;34m\u001b[0m\u001b[0m\n\u001b[0m\u001b[1;32m     89\u001b[0m \u001b[0;34m\u001b[0m\u001b[0m\n\u001b[1;32m     90\u001b[0m     \u001b[0;32mdef\u001b[0m \u001b[0mregister_buffer\u001b[0m\u001b[0;34m(\u001b[0m\u001b[0mself\u001b[0m\u001b[0;34m,\u001b[0m \u001b[0mname\u001b[0m\u001b[0;34m,\u001b[0m \u001b[0mtensor\u001b[0m\u001b[0;34m)\u001b[0m\u001b[0;34m:\u001b[0m\u001b[0;34m\u001b[0m\u001b[0;34m\u001b[0m\u001b[0m\n",
      "\u001b[0;31mNotImplementedError\u001b[0m: "
     ]
    }
   ],
   "source": [
    "# Grab some data \n",
    "dataiter = iter(trainloader)\n",
    "images, labels = dataiter.next()\n",
    "\n",
    "# Resize images into a 1D vector, new shape is (batch size, color channels, image pixels) \n",
    "images.resize_(64, 1, 784)\n",
    "# or images.resize_(images.shape[0], 1, 784) to automatically get batch size\n",
    "\n",
    "# Forward pass through the network\n",
    "img_idx = 0\n",
    "ps = model.forward(images[img_idx,:])\n",
    "\n",
    "img = images[img_idx]\n",
    "helper.view_classify(img.view(1, 28, 28), ps)"
   ]
  },
  {
   "cell_type": "markdown",
   "metadata": {},
   "source": [
    "As you can see above, our network has basically no idea what this digit is. It's because we haven't trained it yet, all the weights are random!\n",
    "\n",
    "### Using `nn.Sequential`\n",
    "\n",
    "PyTorch provides a convenient way to build networks like this where a tensor is passed sequentially through operations, `nn.Sequential` ([documentation](https://pytorch.org/docs/master/nn.html#torch.nn.Sequential)). Using this to build the equivalent network:"
   ]
  },
  {
   "cell_type": "code",
   "execution_count": null,
   "metadata": {
    "collapsed": true
   },
   "outputs": [],
   "source": [
    "# Hyperparameters for our network\n",
    "input_size = 784\n",
    "hidden_sizes = [128, 64]\n",
    "output_size = 10\n",
    "\n",
    "# Build a feed-forward network\n",
    "model = nn.Sequential(nn.Linear(input_size, hidden_sizes[0]),\n",
    "                      nn.ReLU(),\n",
    "                      nn.Linear(hidden_sizes[0], hidden_sizes[1]),\n",
    "                      nn.ReLU(),\n",
    "                      nn.Linear(hidden_sizes[1], output_size),\n",
    "                      nn.Softmax(dim=1))\n",
    "print(model)\n",
    "\n",
    "# Forward pass through the network and display output\n",
    "images, labels = next(iter(trainloader))\n",
    "images.resize_(images.shape[0], 1, 784)\n",
    "ps = model.forward(images[0,:])\n",
    "helper.view_classify(images[0].view(1, 28, 28), ps)"
   ]
  },
  {
   "cell_type": "markdown",
   "metadata": {},
   "source": [
    "Here our model is the same as before: 784 input units, a hidden layer with 128 units, ReLU activation, 64 unit hidden layer, another ReLU, then the output layer with 10 units, and the softmax output.\n",
    "\n",
    "The operations are availble by passing in the appropriate index. For example, if you want to get first Linear operation and look at the weights, you'd use `model[0]`."
   ]
  },
  {
   "cell_type": "code",
   "execution_count": null,
   "metadata": {
    "collapsed": true
   },
   "outputs": [],
   "source": [
    "print(model[0])\n",
    "model[0].weight"
   ]
  },
  {
   "cell_type": "markdown",
   "metadata": {},
   "source": [
    "You can also pass in an `OrderedDict` to name the individual layers and operations, instead of using incremental integers. Note that dictionary keys must be unique, so _each operation must have a different name_."
   ]
  },
  {
   "cell_type": "code",
   "execution_count": null,
   "metadata": {
    "collapsed": true
   },
   "outputs": [],
   "source": [
    "from collections import OrderedDict\n",
    "model = nn.Sequential(OrderedDict([\n",
    "                      ('fc1', nn.Linear(input_size, hidden_sizes[0])),\n",
    "                      ('relu1', nn.ReLU()),\n",
    "                      ('fc2', nn.Linear(hidden_sizes[0], hidden_sizes[1])),\n",
    "                      ('relu2', nn.ReLU()),\n",
    "                      ('output', nn.Linear(hidden_sizes[1], output_size)),\n",
    "                      ('softmax', nn.Softmax(dim=1))]))\n",
    "model"
   ]
  },
  {
   "cell_type": "markdown",
   "metadata": {},
   "source": [
    "Now you can access layers either by integer or the name"
   ]
  },
  {
   "cell_type": "code",
   "execution_count": null,
   "metadata": {
    "collapsed": true
   },
   "outputs": [],
   "source": [
    "print(model[0])\n",
    "print(model.fc1)"
   ]
  },
  {
   "cell_type": "markdown",
   "metadata": {},
   "source": [
    "In the next notebook, we'll see how we can train a neural network to accuractly predict the numbers appearing in the MNIST images."
   ]
  }
 ],
 "metadata": {
  "kernelspec": {
   "display_name": "Python 3",
   "language": "python",
   "name": "python3"
  },
  "language_info": {
   "codemirror_mode": {
    "name": "ipython",
    "version": 3
   },
   "file_extension": ".py",
   "mimetype": "text/x-python",
   "name": "python",
   "nbconvert_exporter": "python",
   "pygments_lexer": "ipython3",
   "version": "3.7.3"
  },
  "toc": {
   "base_numbering": 1,
   "nav_menu": {},
   "number_sections": true,
   "sideBar": true,
   "skip_h1_title": false,
   "title_cell": "Table of Contents",
   "title_sidebar": "Contents",
   "toc_cell": false,
   "toc_position": {},
   "toc_section_display": true,
   "toc_window_display": false
  },
  "varInspector": {
   "cols": {
    "lenName": 16,
    "lenType": 16,
    "lenVar": 40
   },
   "kernels_config": {
    "python": {
     "delete_cmd_postfix": "",
     "delete_cmd_prefix": "del ",
     "library": "var_list.py",
     "varRefreshCmd": "print(var_dic_list())"
    },
    "r": {
     "delete_cmd_postfix": ") ",
     "delete_cmd_prefix": "rm(",
     "library": "var_list.r",
     "varRefreshCmd": "cat(var_dic_list()) "
    }
   },
   "types_to_exclude": [
    "module",
    "function",
    "builtin_function_or_method",
    "instance",
    "_Feature"
   ],
   "window_display": false
  }
 },
 "nbformat": 4,
 "nbformat_minor": 2
}
